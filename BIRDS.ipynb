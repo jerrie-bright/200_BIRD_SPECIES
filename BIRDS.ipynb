{
  "nbformat": 4,
  "nbformat_minor": 0,
  "metadata": {
    "colab": {
      "name": "BIRDS.ipynb",
      "provenance": [],
      "collapsed_sections": []
    },
    "kernelspec": {
      "name": "python3",
      "display_name": "Python 3"
    },
    "accelerator": "GPU"
  },
  "cells": [
    {
      "cell_type": "code",
      "metadata": {
        "id": "labUoZDBxGrq",
        "colab_type": "code",
        "colab": {
          "base_uri": "https://localhost:8080/",
          "height": 35
        },
        "outputId": "abad50dd-ad14-4982-cf2a-25e2deb8bdfc"
      },
      "source": [
        "import keras\n",
        "import numpy as np\n",
        "from keras.preprocessing.image import ImageDataGenerator\n",
        "from keras.applications.vgg16 import preprocess_input"
      ],
      "execution_count": null,
      "outputs": [
        {
          "output_type": "stream",
          "text": [
            "Using TensorFlow backend.\n"
          ],
          "name": "stderr"
        }
      ]
    },
    {
      "cell_type": "code",
      "metadata": {
        "id": "tdH7F6J_xH13",
        "colab_type": "code",
        "colab": {
          "resources": {
            "http://localhost:8080/nbextensions/google.colab/files.js": {
              "data": "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",
              "ok": true,
              "headers": [
                [
                  "content-type",
                  "application/javascript"
                ]
              ],
              "status": 200,
              "status_text": ""
            }
          },
          "base_uri": "https://localhost:8080/",
          "height": 72
        },
        "outputId": "bc00fdb8-5813-4d3e-ce7c-eab37e370f6a"
      },
      "source": [
        "from google.colab import files\n",
        "files.upload()\n",
        "!mkdir -p  ~/.kaggle\n",
        "!cp kaggle.json ~/.kaggle\n",
        "!chmod 600 ~/.kaggle/kaggle.json"
      ],
      "execution_count": null,
      "outputs": [
        {
          "output_type": "display_data",
          "data": {
            "text/html": [
              "\n",
              "     <input type=\"file\" id=\"files-6781df65-0056-4f29-aede-646ecb56253f\" name=\"files[]\" multiple disabled\n",
              "        style=\"border:none\" />\n",
              "     <output id=\"result-6781df65-0056-4f29-aede-646ecb56253f\">\n",
              "      Upload widget is only available when the cell has been executed in the\n",
              "      current browser session. Please rerun this cell to enable.\n",
              "      </output>\n",
              "      <script src=\"/nbextensions/google.colab/files.js\"></script> "
            ],
            "text/plain": [
              "<IPython.core.display.HTML object>"
            ]
          },
          "metadata": {
            "tags": []
          }
        },
        {
          "output_type": "stream",
          "text": [
            "Saving kaggle.json to kaggle.json\n"
          ],
          "name": "stdout"
        }
      ]
    },
    {
      "cell_type": "code",
      "metadata": {
        "id": "Skdq_GFyxU0b",
        "colab_type": "code",
        "colab": {
          "base_uri": "https://localhost:8080/",
          "height": 72
        },
        "outputId": "474281c5-065e-4faf-acbd-d01d768912c0"
      },
      "source": [
        "!kaggle datasets download -d gpiosenka/100-bird-species"
      ],
      "execution_count": null,
      "outputs": [
        {
          "output_type": "stream",
          "text": [
            "Downloading 100-bird-species.zip to /content\n",
            " 99% 1.27G/1.28G [00:21<00:00, 72.8MB/s]\n",
            "100% 1.28G/1.28G [00:21<00:00, 63.2MB/s]\n"
          ],
          "name": "stdout"
        }
      ]
    },
    {
      "cell_type": "code",
      "metadata": {
        "id": "uTI2l1aqxXLt",
        "colab_type": "code",
        "colab": {}
      },
      "source": [
        "import zipfile\n",
        "local_zip = '/content/100-bird-species.zip'\n",
        "zip_ref = zipfile.ZipFile(local_zip, 'r')\n",
        "zip_ref.extractall('/content/')\n",
        "zip_ref.close()"
      ],
      "execution_count": null,
      "outputs": []
    },
    {
      "cell_type": "code",
      "metadata": {
        "id": "z70YNTUuxH38",
        "colab_type": "code",
        "colab": {
          "base_uri": "https://localhost:8080/",
          "height": 72
        },
        "outputId": "05c1edee-4b3d-4a97-8ac6-e91f33d8fb8b"
      },
      "source": [
        "#Creating generator for Training DataSet\n",
        "train_datagen = ImageDataGenerator(\n",
        "        preprocessing_function=preprocess_input,\n",
        "        shear_range=0.1,\n",
        "        zoom_range=0.1,\n",
        "        horizontal_flip=True)\n",
        "train_generator = train_datagen.flow_from_directory('/content/train',target_size=(224, 224),batch_size=64,class_mode='categorical')\n",
        "\n",
        "#Creating generator for Validation DataSet\n",
        "val_datagen = ImageDataGenerator(preprocessing_function=preprocess_input)\n",
        "val_generator = val_datagen.flow_from_directory('/content/valid',target_size=(224, 224),batch_size=32,class_mode='categorical')\n",
        "\n",
        "#Creating generator for Test DataSet\n",
        "test_datagen = ImageDataGenerator(preprocessing_function=preprocess_input)\n",
        "test_generator = test_datagen.flow_from_directory('/content/test',target_size=(224, 224),batch_size=32,class_mode='categorical')"
      ],
      "execution_count": null,
      "outputs": [
        {
          "output_type": "stream",
          "text": [
            "Found 29544 images belonging to 215 classes.\n",
            "Found 1075 images belonging to 215 classes.\n",
            "Found 1075 images belonging to 215 classes.\n"
          ],
          "name": "stdout"
        }
      ]
    },
    {
      "cell_type": "code",
      "metadata": {
        "id": "jnAaSKQSxH7d",
        "colab_type": "code",
        "colab": {
          "base_uri": "https://localhost:8080/",
          "height": 53
        },
        "outputId": "c2af00c9-b58b-4b3c-b136-fb54f29ea69d"
      },
      "source": [
        "#instantiate a base model with pre-trained weigts.\n",
        "base_model=keras.applications.VGG16(\n",
        "    include_top=False,\n",
        "    weights=\"imagenet\",\n",
        "    input_shape=(224,224,3))"
      ],
      "execution_count": null,
      "outputs": [
        {
          "output_type": "stream",
          "text": [
            "Downloading data from https://github.com/fchollet/deep-learning-models/releases/download/v0.1/vgg16_weights_tf_dim_ordering_tf_kernels_notop.h5\n",
            "58892288/58889256 [==============================] - 3s 0us/step\n"
          ],
          "name": "stdout"
        }
      ]
    },
    {
      "cell_type": "code",
      "metadata": {
        "id": "Uo1-QeGcxH99",
        "colab_type": "code",
        "colab": {}
      },
      "source": [
        "#freeze the base model\n",
        "base_model.trainable = False"
      ],
      "execution_count": null,
      "outputs": []
    },
    {
      "cell_type": "code",
      "metadata": {
        "id": "ezx1gDmwyUzm",
        "colab_type": "code",
        "colab": {}
      },
      "source": [
        "from keras.models import Sequential\n",
        "from keras.layers import Dense,Flatten,Dropout\n",
        "model=Sequential()\n",
        "model.add(base_model)\n",
        "model.add(Flatten())\n",
        "model.add(Dense(2048,activation='relu',kernel_initializer='he_normal'))\n",
        "model.add(Dropout(0.35))\n",
        "model.add(Dense(2048,activation='relu',kernel_initializer='he_normal'))\n",
        "model.add(Dropout(0.35))\n",
        "model.add(Dense(215,activation='softmax',kernel_initializer='glorot_normal'))"
      ],
      "execution_count": null,
      "outputs": []
    },
    {
      "cell_type": "code",
      "metadata": {
        "id": "90qUjKt9yU2I",
        "colab_type": "code",
        "colab": {
          "base_uri": "https://localhost:8080/",
          "height": 416
        },
        "outputId": "144361fb-bdac-4af6-d27f-3861f59b5649"
      },
      "source": [
        "model.summary()"
      ],
      "execution_count": null,
      "outputs": [
        {
          "output_type": "stream",
          "text": [
            "Model: \"sequential_2\"\n",
            "_________________________________________________________________\n",
            "Layer (type)                 Output Shape              Param #   \n",
            "=================================================================\n",
            "vgg16 (Model)                (None, 7, 7, 512)         14714688  \n",
            "_________________________________________________________________\n",
            "flatten_2 (Flatten)          (None, 25088)             0         \n",
            "_________________________________________________________________\n",
            "dense_4 (Dense)              (None, 2048)              51382272  \n",
            "_________________________________________________________________\n",
            "dropout_3 (Dropout)          (None, 2048)              0         \n",
            "_________________________________________________________________\n",
            "dense_5 (Dense)              (None, 2048)              4196352   \n",
            "_________________________________________________________________\n",
            "dropout_4 (Dropout)          (None, 2048)              0         \n",
            "_________________________________________________________________\n",
            "dense_6 (Dense)              (None, 215)               440535    \n",
            "=================================================================\n",
            "Total params: 70,733,847\n",
            "Trainable params: 56,019,159\n",
            "Non-trainable params: 14,714,688\n",
            "_________________________________________________________________\n"
          ],
          "name": "stdout"
        }
      ]
    },
    {
      "cell_type": "code",
      "metadata": {
        "id": "Nihp1SoVyU6C",
        "colab_type": "code",
        "colab": {}
      },
      "source": [
        "model.compile(optimizer=keras.optimizers.Adam(1e-4),loss='categorical_crossentropy',metrics=['accuracy'])"
      ],
      "execution_count": null,
      "outputs": []
    },
    {
      "cell_type": "code",
      "metadata": {
        "id": "HnV7LeWzyU4Q",
        "colab_type": "code",
        "colab": {
          "base_uri": "https://localhost:8080/",
          "height": 1000
        },
        "outputId": "bf66f66f-e98c-4ac4-b3c9-dcc3532e30f9"
      },
      "source": [
        "history=model.fit(train_generator,epochs=40,validation_data=val_generator,workers=10,use_multiprocessing=True)"
      ],
      "execution_count": null,
      "outputs": [
        {
          "output_type": "stream",
          "text": [
            "Epoch 1/40\n",
            "462/462 [==============================] - 397s 859ms/step - loss: 9.0988 - accuracy: 0.0749 - val_loss: 2.8479 - val_accuracy: 0.3405\n",
            "Epoch 2/40\n",
            "462/462 [==============================] - 361s 780ms/step - loss: 3.7011 - accuracy: 0.2908 - val_loss: 1.3898 - val_accuracy: 0.6214\n",
            "Epoch 3/40\n",
            "462/462 [==============================] - 365s 791ms/step - loss: 2.5986 - accuracy: 0.4805 - val_loss: 1.2391 - val_accuracy: 0.7647\n",
            "Epoch 4/40\n",
            "462/462 [==============================] - 364s 787ms/step - loss: 2.0046 - accuracy: 0.5929 - val_loss: 0.8035 - val_accuracy: 0.8140\n",
            "Epoch 5/40\n",
            "462/462 [==============================] - 363s 786ms/step - loss: 1.6436 - accuracy: 0.6625 - val_loss: 0.5808 - val_accuracy: 0.8493\n",
            "Epoch 6/40\n",
            "461/462 [============================>.] - ETA: 0s - loss: 1.4384 - accuracy: 0.7080\n",
            "462/462 [==============================] - 365s 789ms/step - loss: 1.4380 - accuracy: 0.7080 - val_loss: 0.2312 - val_accuracy: 0.8781\n",
            "Epoch 7/40\n",
            "461/462 [============================>.] - ETA: 0s - loss: 1.2495 - accuracy: 0.7433Epoch 7/40\n",
            "462/462 [==============================] - 367s 793ms/step - loss: 1.2481 - accuracy: 0.7436 - val_loss: 0.1301 - val_accuracy: 0.8930\n",
            "Epoch 8/40\n",
            "461/462 [============================>.] - ETA: 0s - loss: 1.1998 - accuracy: 0.7654Epoch 8/40\n",
            "462/462 [==============================] - 367s 795ms/step - loss: 1.2016 - accuracy: 0.7653 - val_loss: 0.5041 - val_accuracy: 0.8977\n",
            "Epoch 9/40\n",
            "462/462 [==============================] - 364s 788ms/step - loss: 1.0705 - accuracy: 0.7850 - val_loss: 0.2209 - val_accuracy: 0.9060\n",
            "Epoch 10/40\n",
            "462/462 [==============================] - 363s 786ms/step - loss: 1.0148 - accuracy: 0.8008 - val_loss: 0.1227 - val_accuracy: 0.9153\n",
            "Epoch 11/40\n",
            "462/462 [==============================] - 366s 793ms/step - loss: 0.9520 - accuracy: 0.8155 - val_loss: 0.0078 - val_accuracy: 0.9144\n",
            "Epoch 12/40\n",
            "462/462 [==============================] - 370s 801ms/step - loss: 0.8859 - accuracy: 0.8280 - val_loss: 0.2111 - val_accuracy: 0.9181\n",
            "Epoch 13/40\n",
            "462/462 [==============================] - 369s 798ms/step - loss: 0.8242 - accuracy: 0.8424 - val_loss: 0.0025 - val_accuracy: 0.9172\n",
            "Epoch 14/40\n",
            "462/462 [==============================] - 370s 801ms/step - loss: 0.7976 - accuracy: 0.8503 - val_loss: 0.3693 - val_accuracy: 0.9293\n",
            "Epoch 15/40\n",
            "462/462 [==============================] - 370s 801ms/step - loss: 0.7753 - accuracy: 0.8587 - val_loss: 0.3846 - val_accuracy: 0.9191\n",
            "Epoch 16/40\n",
            "462/462 [==============================] - 369s 800ms/step - loss: 0.7194 - accuracy: 0.8680 - val_loss: 0.6372 - val_accuracy: 0.9274\n",
            "Epoch 17/40\n",
            "462/462 [==============================] - 369s 798ms/step - loss: 0.7251 - accuracy: 0.8702 - val_loss: 0.4891 - val_accuracy: 0.9340\n",
            "Epoch 18/40\n",
            "462/462 [==============================] - 369s 800ms/step - loss: 0.6661 - accuracy: 0.8784 - val_loss: 0.0439 - val_accuracy: 0.9284\n",
            "Epoch 19/40\n",
            "462/462 [==============================] - 381s 826ms/step - loss: 0.6404 - accuracy: 0.8857 - val_loss: 0.2181 - val_accuracy: 0.9247\n",
            "Epoch 20/40\n",
            "462/462 [==============================] - 382s 827ms/step - loss: 0.6016 - accuracy: 0.8938 - val_loss: 0.0015 - val_accuracy: 0.9247\n",
            "Epoch 21/40\n",
            "462/462 [==============================] - 381s 824ms/step - loss: 0.6419 - accuracy: 0.8917 - val_loss: 0.4428 - val_accuracy: 0.9284\n",
            "Epoch 22/40\n",
            "462/462 [==============================] - 370s 802ms/step - loss: 0.5791 - accuracy: 0.8995 - val_loss: 0.4855 - val_accuracy: 0.9377\n",
            "Epoch 23/40\n",
            "462/462 [==============================] - 370s 801ms/step - loss: 0.5506 - accuracy: 0.9033 - val_loss: 0.0011 - val_accuracy: 0.9367\n",
            "Epoch 24/40\n",
            "462/462 [==============================] - 374s 809ms/step - loss: 0.5470 - accuracy: 0.9063 - val_loss: 0.0406 - val_accuracy: 0.9414\n",
            "Epoch 25/40\n",
            "462/462 [==============================] - 373s 808ms/step - loss: 0.5218 - accuracy: 0.9119 - val_loss: 3.8196e-04 - val_accuracy: 0.9367\n",
            "Epoch 26/40\n",
            "462/462 [==============================] - 372s 804ms/step - loss: 0.5487 - accuracy: 0.9087 - val_loss: 0.0682 - val_accuracy: 0.9488\n",
            "Epoch 27/40\n",
            "461/462 [============================>.] - ETA: 0s - loss: 0.5050 - accuracy: 0.9155Epoch 27/40\n",
            "462/462 [==============================] - 372s 805ms/step - loss: 0.5054 - accuracy: 0.9155 - val_loss: 0.4439 - val_accuracy: 0.9386\n",
            "Epoch 28/40\n",
            "462/462 [==============================] - 372s 805ms/step - loss: 0.5257 - accuracy: 0.9180 - val_loss: 0.1204 - val_accuracy: 0.9442\n",
            "Epoch 29/40\n",
            "461/462 [============================>.] - ETA: 0s - loss: 0.4755 - accuracy: 0.9224\b\b\b\b\b\b\b\b\b\b\b\b\b\b\b\b\b\b\b\b\b\b\b\b\b\b\b\b\b\b\b\b\b\b\b\b\b\b\b\b\b\b\b\b\b\b\b\b\b\b\b\b\b\b\b\b\b\b\b\b\b\b\b\b\b\b\b\b\b\b\b\b\b\b\b\b\b\b\b\b\b\b\b\bEpoch 29/40\n",
            "462/462 [==============================] - 371s 803ms/step - loss: 0.4760 - accuracy: 0.9224 - val_loss: 0.0936 - val_accuracy: 0.9395\n",
            "Epoch 30/40\n",
            "Epoch 30/40\n",
            "462/462 [==============================] - 368s 798ms/step - loss: 0.4884 - accuracy: 0.9214 - val_loss: 0.0071 - val_accuracy: 0.9330\n",
            "Epoch 31/40\n",
            "462/462 [==============================] - 367s 795ms/step - loss: 0.4349 - accuracy: 0.9284 - val_loss: 2.4745e-04 - val_accuracy: 0.9451\n",
            "Epoch 32/40\n",
            "462/462 [==============================] - 372s 805ms/step - loss: 0.4470 - accuracy: 0.9296 - val_loss: 3.8900e-07 - val_accuracy: 0.9423\n",
            "Epoch 33/40\n",
            "462/462 [==============================] - 372s 805ms/step - loss: 0.4205 - accuracy: 0.9332 - val_loss: 0.2065 - val_accuracy: 0.9451\n",
            "Epoch 34/40\n",
            "462/462 [==============================] - 368s 795ms/step - loss: 0.4177 - accuracy: 0.9347 - val_loss: 0.0225 - val_accuracy: 0.9526\n",
            "Epoch 35/40\n",
            "461/462 [============================>.] - ETA: 0s - loss: 0.3937 - accuracy: 0.9352Epoch 35/40\n",
            "462/462 [==============================] - 363s 786ms/step - loss: 0.3954 - accuracy: 0.9351 - val_loss: 0.9441 - val_accuracy: 0.9442\n",
            "Epoch 36/40\n",
            "461/462 [============================>.] - ETA: 0s - loss: 0.4037 - accuracy: 0.9354Epoch 36/40\n",
            "462/462 [==============================] - 367s 793ms/step - loss: 0.4037 - accuracy: 0.9355 - val_loss: 0.1522 - val_accuracy: 0.9414\n",
            "Epoch 37/40\n",
            "462/462 [==============================] - 367s 795ms/step - loss: 0.3815 - accuracy: 0.9394 - val_loss: 1.3292e-04 - val_accuracy: 0.9488\n",
            "Epoch 38/40\n",
            "462/462 [==============================] - 371s 803ms/step - loss: 0.4154 - accuracy: 0.9369 - val_loss: 0.1124 - val_accuracy: 0.9423\n",
            "Epoch 39/40\n",
            "461/462 [============================>.] - ETA: 0s - loss: 0.3614 - accuracy: 0.9415Epoch 39/40\n",
            "462/462 [==============================] - 374s 810ms/step - loss: 0.3617 - accuracy: 0.9415 - val_loss: 0.5891 - val_accuracy: 0.9507\n",
            "Epoch 40/40\n",
            "462/462 [==============================] - 372s 806ms/step - loss: 0.3659 - accuracy: 0.9434 - val_loss: 0.0092 - val_accuracy: 0.9507\n"
          ],
          "name": "stdout"
        }
      ]
    },
    {
      "cell_type": "code",
      "metadata": {
        "id": "HKZsE1vYzDpF",
        "colab_type": "code",
        "colab": {
          "base_uri": "https://localhost:8080/",
          "height": 513
        },
        "outputId": "3503580c-2bca-449e-e514-44d7d6e05be5"
      },
      "source": [
        "#Some visualizations\n",
        "import matplotlib.pyplot as plt\n",
        "#Loss\n",
        "plt.plot(history.history['loss'],label='loss')\n",
        "plt.plot(history.history['val_loss'],label='val_loss')\n",
        "plt.legend()\n",
        "plt.show()\n",
        "#Accuracy\n",
        "plt.plot(history.history['accuracy'],label='acc')\n",
        "plt.plot(history.history['val_accuracy'],label='val_acc')\n",
        "plt.legend()\n",
        "plt.show()"
      ],
      "execution_count": null,
      "outputs": [
        {
          "output_type": "display_data",
          "data": {
            "image/png": "[encoded data removed]",
            "text/plain": [
              "<Figure size 432x288 with 1 Axes>"
            ]
          },
          "metadata": {
            "tags": [],
            "needs_background": "light"
          }
        },
        {
          "output_type": "display_data",
          "data": {
            "image/png": "[encoded data removed]",
            "text/plain": [
              "<Figure size 432x288 with 1 Axes>"
            ]
          },
          "metadata": {
            "tags": [],
            "needs_background": "light"
          }
        }
      ]
    },
    {
      "cell_type": "code",
      "metadata": {
        "id": "7qjE-Y95zDsK",
        "colab_type": "code",
        "colab": {}
      },
      "source": [
        "model.save(\"/content/drive/My Drive/yolov3/birds.h5\")"
      ],
      "execution_count": null,
      "outputs": []
    },
    {
      "cell_type": "code",
      "metadata": {
        "id": "XnBR0GqwsENw",
        "colab_type": "code",
        "colab": {
          "base_uri": "https://localhost:8080/",
          "height": 35
        },
        "outputId": "6193f348-7305-4e90-bedf-36101d699a6b"
      },
      "source": [
        "model.evaluate(test_generator,use_multiprocessing=True,workers=10)"
      ],
      "execution_count": null,
      "outputs": [
        {
          "output_type": "stream",
          "text": [
            "34/34 [==============================] - 12s 358ms/step\n"
          ],
          "name": "stdout"
        },
        {
          "output_type": "execute_result",
          "data": {
            "text/plain": [
              "[8.5635492723668e-06, 0.9655814170837402]"
            ]
          },
          "metadata": {
            "tags": []
          },
          "execution_count": 22
        },
        {
          "output_type": "stream",
          "text": [
            "\b\b\b\b\b\b\b\b\b\b\b\b\b\b\b\b\b\b\b\b\b\b\b\b\b\b\b\b\b\b\b\b\b\b\b\b\b\b\b\b\b\b\b\b\b\b\b\b"
          ],
          "name": "stdout"
        }
      ]
    },
    {
      "cell_type": "code",
      "metadata": {
        "id": "7SXwwu1WtPs3",
        "colab_type": "code",
        "colab": {
          "resources": {
            "http://localhost:8080/nbextensions/google.colab/files.js": {
              "data": "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",
              "ok": true,
              "headers": [
                [
                  "content-type",
                  "application/javascript"
                ]
              ],
              "status": 200,
              "status_text": ""
            }
          },
          "base_uri": "https://localhost:8080/",
          "height": 111
        },
        "outputId": "13d5a485-4d9e-4490-a545-c353d71870c2"
      },
      "source": [
        "upload = files.upload()\n",
        "print(upload)"
      ],
      "execution_count": null,
      "outputs": [
        {
          "output_type": "display_data",
          "data": {
            "text/html": [
              "\n",
              "     <input type=\"file\" id=\"files-9ffce090-b80c-460c-a0be-daa663a475ac\" name=\"files[]\" multiple disabled\n",
              "        style=\"border:none\" />\n",
              "     <output id=\"result-9ffce090-b80c-460c-a0be-daa663a475ac\">\n",
              "      Upload widget is only available when the cell has been executed in the\n",
              "      current browser session. Please rerun this cell to enable.\n",
              "      </output>\n",
              "      <script src=\"/nbextensions/google.colab/files.js\"></script> "
            ],
            "text/plain": [
              "<IPython.core.display.HTML object>"
            ]
          },
          "metadata": {
            "tags": []
          }
        },
        {
          "output_type": "stream",
          "text": [
            "Saving 1.jpg to 1.jpg\n",
            "{'1.jpg': b'\\xff\\xd8\\xff\\xe0\\x00\\x10JFIF\\x00\\x01\\x01\\x00\\x00\\x01\\x00\\x01\\x00\\x00\\xff\\xdb\\x00C\\x00\\x02\\x01\\x01\\x01\\x01\\x01\\x02\\x01\\x01\\x01\\x02\\x02\\x02\\x02\\x02\\x04\\x03\\x02\\x02\\x02\\x02\\x05\\x04\\x04\\x03\\x04\\x06\\x05\\x06\\x06\\x06\\x05\\x06\\x06\\x06\\x07\\t\\x08\\x06\\x07\\t\\x07\\x06\\x06\\x08\\x0b\\x08\\t\\n\\n\\n\\n\\n\\x06\\x08\\x0b\\x0c\\x0b\\n\\x0c\\t\\n\\n\\n\\xff\\xdb\\x00C\\x01\\x02\\x02\\x02\\x02\\x02\\x02\\x05\\x03\\x03\\x05\\n\\x07\\x06\\x07\\n\\n\\n\\n\\n\\n\\n\\n\\n\\n\\n\\n\\n\\n\\n\\n\\n\\n\\n\\n\\n\\n\\n\\n\\n\\n\\n\\n\\n\\n\\n\\n\\n\\n\\n\\n\\n\\n\\n\\n\\n\\n\\n\\n\\n\\n\\n\\n\\n\\n\\xff\\xc0\\x00\\x11\\x08\\x00\\xe0\\x00\\xe0\\x03\\x01\"\\x00\\x02\\x11\\x01\\x03\\x11\\x01\\xff\\xc4\\x00\\x1f\\x00\\x00\\x01\\x05\\x01\\x01\\x01\\x01\\x01\\x01\\x00\\x00\\x00\\x00\\x00\\x00\\x00\\x00\\x01\\x02\\x03\\x04\\x05\\x06\\x07\\x08\\t\\n\\x0b\\xff\\xc4\\x00\\xb5\\x10\\x00\\x02\\x01\\x03\\x03\\x02\\x04\\x03\\x05\\x05\\x04\\x04\\x00\\x00\\x01}\\x01\\x02\\x03\\x00\\x04\\x11\\x05\\x12!1A\\x06\\x13Qa\\x07\"q\\x142\\x81\\x91\\xa1\\x08#B\\xb1\\xc1\\x15R\\xd1\\xf0$3br\\x82\\t\\n\\x16\\x17\\x18\\x19\\x1a%&\\'()*456789:CDEFGHIJSTUVWXYZcdefghijstuvwxyz\\x83\\x84\\x85\\x86\\x87\\x88\\x89\\x8a\\x92\\x93\\x94\\x95\\x96\\x97\\x98\\x99\\x9a\\xa2\\xa3\\xa4\\xa5\\xa6\\xa7\\xa8\\xa9\\xaa\\xb2\\xb3\\xb4\\xb5\\xb6\\xb7\\xb8\\xb9\\xba\\xc2\\xc3\\xc4\\xc5\\xc6\\xc7\\xc8\\xc9\\xca\\xd2\\xd3\\xd4\\xd5\\xd6\\xd7\\xd8\\xd9\\xda\\xe1\\xe2\\xe3\\xe4\\xe5\\xe6\\xe7\\xe8\\xe9\\xea\\xf1\\xf2\\xf3\\xf4\\xf5\\xf6\\xf7\\xf8\\xf9\\xfa\\xff\\xc4\\x00\\x1f\\x01\\x00\\x03\\x01\\x01\\x01\\x01\\x01\\x01\\x01\\x01\\x01\\x00\\x00\\x00\\x00\\x00\\x00\\x01\\x02\\x03\\x04\\x05\\x06\\x07\\x08\\t\\n\\x0b\\xff\\xc4\\x00\\xb5\\x11\\x00\\x02\\x01\\x02\\x04\\x04\\x03\\x04\\x07\\x05\\x04\\x04\\x00\\x01\\x02w\\x00\\x01\\x02\\x03\\x11\\x04\\x05!1\\x06\\x12AQ\\x07aq\\x13\"2\\x81\\x08\\x14B\\x91\\xa1\\xb1\\xc1\\t#3R\\xf0\\x15br\\xd1\\n\\x16$4\\xe1%\\xf1\\x17\\x18\\x19\\x1a&\\'()*56789:CDEFGHIJSTUVWXYZcdefghijstuvwxyz\\x82\\x83\\x84\\x85\\x86\\x87\\x88\\x89\\x8a\\x92\\x93\\x94\\x95\\x96\\x97\\x98\\x99\\x9a\\xa2\\xa3\\xa4\\xa5\\xa6\\xa7\\xa8\\xa9\\xaa\\xb2\\xb3\\xb4\\xb5\\xb6\\xb7\\xb8\\xb9\\xba\\xc2\\xc3\\xc4\\xc5\\xc6\\xc7\\xc8\\xc9\\xca\\xd2\\xd3\\xd4\\xd5\\xd6\\xd7\\xd8\\xd9\\xda\\xe2\\xe3\\xe4\\xe5\\xe6\\xe7\\xe8\\xe9\\xea\\xf2\\xf3\\xf4\\xf5\\xf6\\xf7\\xf8\\xf9\\xfa\\xff\\xda\\x00\\x0c\\x03\\x01\\x00\\x02\\x11\\x03\\x11\\x00?\\x00\\xfb\\xe96\\x91\\xb4c\\xf1\\x14\\xed\\xbe\\x83\\xadW\\x8e`\\x063S,\\x87\\x18&\\xbd\\x831\\xd2(^@\\xa8\\xa5\\xc08\\x14\\xe3(=\\xf3\\xc5D\\xed\\x8f\\xff\\x00U\\x04\\xde\\xfa\\x0b\\xb4\\x0c\\x054(\\r\\xde\\xa3\\x0f\\x83\\xc9\\xa7+\\xf1\\xcbu\\xa0\\x92\\xc4d\\x0f\\xe1\\xe9V \\x00\\xb75M%\\xcf\\xde?\\xadZ\\x86\\\\rNk6\\x98\\xf5l\\xbf\\x10P\\xb8\\x07\\xb7\\xad\\x0e\\xc1\\xb9j\\x81.\\x82\\xae3\\xd4z\\xd3M\\xc0n\\x14P?t\\x97\\'\\x18\\xcd;p^q\\xde\\xa2\\xf3\\x8f\\xafJk\\xcd\\xc1\\xc3\\xf3@\\xae\\xcb\\x1e`\\xf4\\x1d)\\xca{\\x91\\xcf\\xd6\\xaa\\xac\\xc462?\\x1a\\x91e\\xf4?Z\\x03B\\xd2H\\xbd})\\xc6@\\xdd\\x7f\\x95T\\xf3\\xce\\x059g\\x1c\\x9a\\x8b&\"\\xceC\\x0c\\xff\\x00:i\\xf4\\xf4\\xa8M\\xc1#\\x96\\xfdi\\xbfh u?Zv\\xb6\\xa2\\xba&`\\xa7\\xbf\\x15\\x1b\\xaa\\x92I\\x03\\xa7j\\x8c\\xdcw\\xcf\\xd7\\x9aA8#\\x92}\\xc5P\\xc6\\xcc\\xaa\\xdc\\xfe\\\\\\xd5y\\x90\\x03\\xd7\\xbdO#\\x8c\\xe5ME#\\x83\\xf3s\\x9e\\xf4\\x01\\x03(\\xe8\\xa3\\xf2\\x14\\x9eX\\x07\\'\\xb7^*lg\\x93\\xdb\\xa5(\\x1caN?\\x1ai\\xd8-r\\x03\\x00\\'\\x05~\\x94\\xabj\\x18d\\x0f\\xd6\\xa6\\x1c\\x91\\x93\\xf5\\xcd9F\\x06(\\xbb\\x17R\\xbbY\\x8cd\\xadD\\xf6\\x8a\\xc3\\x01sW\\xa9\\xac\\xaa\\x7f\\x8b\\xf5\\xa7\\xcc\\xc7m\\x0ch\\xaep3\\x9fz\\x95g$rk>9A\\xe4\\x9f\\xd2\\xa5\\x13\\x0cm\\x03\\xebN\\xc8\\xab\\xf6.y\\xc78\\xcf\\xe9Mg\\xc9\\xe1\\xaa\\xbf\\x9b\\xd8\\xf5\\xa5\\x12\\xa9\\xe3=E1jL\\\\\\xf5-BI\\xedP\\x19\\x0f\\xde4\\xaa\\xfdrh\\x11j9?\\xbc\\xdf\\x9dL\\xb3t\\x00\\xf4\\xaak\\'\\x19\\xcd=e\\xcf~\\xf4\\x01u&8\\xce\\x7f\\nw\\x9f\\xc7l\\xfaUE\\x9b\\x07\\xefR\\xf9\\xfd\\xb3S\\xca\\x17e\\x939\\x07\\x1b\\x87^(i\\x98\\x1e\\x18U_<g\\x1c\\xe2\\x9a\\xd7\\x00w<\\xfbQmE\\xa9pNOSR,\\xe4\\x8c\\x9a\\xcf\\xf3\\xc0\\xe4=*\\xdc\\x8c\\xe0\\xfe\\x94\\xac\\xc5\\xef\\x1a>y\\xce7g\\x9a\\x0c\\xe3\\x1b\\x87\\xf3\\xaa\\x0b>?>)\\xe2pG\\xde\\xe7\\xd6\\x8b0l\\xb8\\xd3\\xe3\\x95\\xfa\\xd3D\\xfcg=*\\xa3O\\x91\\xc9\\xa6\\xfd\\xa7\\xde\\x8bip\\xbd\\xf4-\\xb4\\xfc\\xf5\\xefI\\xe7|\\xd8\\xc8\\xaaf|\\xf5\\x14,\\xa4\\xf6\\xe7\\xb5\\x16a\\xcc^3\\xee\\x1f{\\x9akNMU\\x17\\x00\\xf7\\xe9\\xd6\\x90\\xceB\\xe5\\x89\\xe0\\xd3\\xe5(\\xb4%$\\x8c\\x8a_4\\x11\\xc9#\\xde\\xa9\\x89\\xc7SJ.y\\xc0=9\\xa5f+\\xa2\\xe3\\xc8:f\\x97\\xcen\\xbd>\\xb5S\\xed\\x1crs\\xedMk\\x9c\\x1d\\xc7#\\xd6\\x9bC.\\xac\\xe4.qHf^\\xc6\\xa9}\\xac\\x11\\xcbb\\x8f\\xb4\\x81\\xc8\\xebJ\\xccWF\"K\\xf8\\xfdjE\\x9b\\xbdU\\xde\\xa0\\xe0\\x9f\\xc2\\x9c\\xb2\\x0e\\xa4\\xd6\\xd6D\\xdd\\xa2\\xda\\xc9\\x9eOz_4\\x13\\x82\\x7f*\\xad\\xe6\\x8e\\x0e:\\xfb\\xd2\\xf9\\xa3\\x19\\xcf_z\\x81\\xf3hY\\x12!\\xc9\\x14\\xe1.\\x07\\\\\\xd5A \\xed\\xfc\\xe9\\xcb1\\xcf\\x07\\xf5\\xa7f\\x1c\\xcc\\xb4\\xb2\\x902\\x1b\\x8aw\\x9es\\xd2\\xaa\\t\\x863\\x9e\\xd4\\x9ep=9\\xfcz\\xd2\\x0eb\\xf0\\xb8U\\xeb\\x8aSq\\x91\\xd7\\xeb\\xcfZ\\xa3\\xe7d\\x03J\\'^\\xb9\\xe9@s\"\\xef\\x9c\\x9d3M7\\x1f\\xc3\\x9a\\xa8\\x97\\nO\\x02\\x93\\xce\\\\\\xe7w\\x14\\x071l\\xcd\\x9e\\xff\\x00\\xfdz\\x04\\xe1\\xba5T\\x13\\x02?\\x91\\xa0\\\\c\\xbf\\xd6\\x81]\\x97\\x05\\xc0\\xeezS\\xfe\\xd0\\x0f\\x19\\xebT\\r\\xc8=\\xe9\\xa6|w\\xc7\\xd4\\xd0\\x1c\\xe8\\xd07 \\x9c\\x13@\\x9f\\x8f\\xbdY\\xc6\\xeb<\\x13\\xf9\\xd2\\xfd\\xaccn\\xef\\xd6\\x9d\\x98\\xae\\x9b/5\\xc6\\x1b\\xafOzQq\\x83\\xc1\\xfc*\\x81\\x9f=\\r*\\xdc\\x000\\x7f\\x9d!]\\x17\\xd6p;\\xd0\\xf3\\x83\\xd4\\xe6\\xa8\\xfd\\xa3? #\\x8e\\xb4\\x8ds\\x81\\xb7\\x9a\\x06\\x9fr\\xef\\xda\\x07\\xe7I\\xf6\\x81\\x90sTM\\xc9\\xeaM7\\xcf\\xdd\\xdf\\xb54\\xaeU\\xf44>\\xd4\\x00\\xc0<\\xfaf\\x9a\\xd7`p\\x7fJ\\xa3\\xf6\\xaf\\xf6\\x8f\\xe5L7\\'9\\xefE\\x98\\x93\\xb1x\\xdc\\xe0g4}\\xb3\\x03\\x00\\xfe\\xb5\\x9en8\\x184\\xd3p\\x07\\x04\\xfdy\\xa7\\xca\\x1c\\xccn\\xfc\\xfbR\\xef8\\xc6\\r@$\\xec\\x1a\\x94I\\xc7^\\xd5D\\xdd\\x13\\xf9\\x9f/\\xde\\xe2\\x810\\xc67dT\\x06N:t\\xa4\\xf37\\x0c\\x93@\\xcb\\x06f\\x1f\\x88\\xa3\\xcf\\xfe\\xf3~u[\\xcd\\xc7J\\x04\\xa0t=\\xe8#\\x99\\x96|\\xee\\x074\\t\\xb3\\xcek\\xc1\\xbcO\\xfbx\\xfc?\\xf0\\xef\\x89\\xee|7\\xa6\\xfc \\xf8\\x9f\\xe2\\x11k Y%\\xf0\\xd7\\x81\\xa7\\x98\\xcc\\xd9;\\x961)\\x8f `|\\xf8*s\\xc6k\\xa1\\xd0\\xff\\x00h?\\x18\\xf8\\xa3H\\x87S\\xd0\\xbfeO\\x8a\\x11\\xc7<\\xa5\\x83k/\\xa2\\xd9J\\xa8@\\xda\\xa6)oU\\xd3\\xb9m\\xca[\\xb0\\x15\\x9b\\xa9\\x15\\xa2M\\xfa\\x14\\x97V\\xd1\\xeb\\x02\\x7fF\\xe9A\\x9f\\x03\\x0c{t\\xa5\\xf0\\xf7\\x8b<$4\\xd8.\\xb5\\x9f\\x85z\\xef\\xdad\\x03\\xed\\x10\\xcf\\xae\\xc1\\x94\\xe7\\x9cy\\x7f/=\\xb0\\xc7\\x00\\xf5\\xcdt\\xfa\\x7f\\x8e~\\x03\\xdcI\\x8dW\\xe0\\xc6\\xbb\\n)\\xf9Z-eX\\x9e;\\x8f4w\\xcf\\xe1K\\x9d\\xdb\\xe1c\\xb7\\x99\\xcby\\xe4\\xf2\\x0fzQ3\\x1f\\xbb\\x9f\\xc0W\\xb3\\xfc?\\x87\\xf6h\\xf8\\x83x4\\x8d\\x03\\xc0\\xd3\\x0b\\xc1\\x19-\\x0e\\xa7s<|{\\x05\\x93\\xe6\\xc7\\xb1\\xae\\xaa\\xd7\\xf6o\\xf8Kw<\\x90\\\\hS\\x07`6%\\xa5\\xf4\\x88\\x07\\xa8\\xf9\\xcb\\xf3\\xfe=*\\x1dx\\xc7t\\xcaT\\xe4\\xf6g\\xcd\\xc6\\x7fW\\xa4i\\xf01\\xba\\xbb\\xef\\xdaC\\xe0u\\xc7\\xc3\\x18F\\xab\\xf0\\xd9n\\xf5R\\xd0\\xb36\\x85:\\x97\\xbdr9\\xc4\\x1f\"$\\xdcv\\xdc\\xa7\\xd35\\xf1%\\xdf\\xfc\\x14\\xf3\\xe0\\x7f\\x85\\xfcr|\\x01\\xf1\\x0fE\\xf1\\x16\\x8dq\\x14\\xa6+\\xcb\\xab\\xdd\\x1f\\xcb\\x16\\xd2\\x06 \\xac\\x91,\\x8f\"\\xe3\\x8e\\x9b\\x8f\\xb5(\\xe2\\xe8\\xbd\\xdd\\x87\\xec\\xa6\\xd5\\xd2>\\x9b7\\x04\\x827~4\\x86\\xe0\\x9e\\xa2\\xa9[_C{m\\x1d\\xe5\\xb3\\xef\\x8eT\\x0f\\x1bt\\xc8# \\xf3N2pEu$\\x99\\x8b\\xbfR\\xcf\\x9es\\x93\\xda\\x90\\\\q\\x92q\\xf8\\xd5V\\x94\\xe3\\x83G\\x98H\\xc0\\xcd?\\xb2\\x16e\\xc1s\\x93\\x82sN\\xf3\\x8a\\xf3\\x9e\\xb5Ie\\x03\\x8aQ1\\x039\\xa5f\\x16e\\xcf\\xb4v&\\x838\\xc7\\x15H\\xcb\\xd4\\x03\\xefJ&\\xee\\x08\\xa2\\xcc^\\xf5\\xcbO? \\x93Hg\\x03\\x82z\\xfb\\xd5_8~\\xb4\\xd7\\x9c\\xf4\\xcdYJ\\xe5\\x96\\xb8\\xc7S\\x8e)\\xa6\\xe0\\x8e3\\x9c\\xf4\\xaa\\x8f62@\\xc0\\xa43\\x9ej:\\x0e\\xc8\\xb5\\xf6\\x93\\x9cn4\\xd3pG\\xcd\\xdf\\xbej\\xa9\\x98\\x9e\\x9csHe\\xc9\\xff\\x00\\xeb\\xf1V\\x1a\\x16\\xb7\\xff\\x00\\xb5\\xfa\\xd2\\xac\\x8c9\\x06\\xab\\xf9\\x80\\x8e\\x05\\x0b\\'$\\xe6\\xa3Q\\xb4\\x99a\\xa4\\xdd\\xd4\\x8aB\\xe3\\x18?\\x95@e\\x19\\x1bM)\\x93w \\xfe\\x94\\x85\\xa1\\'\\x9a\\xa3\\x8c\\xf1\\xeb@\\x93\\xb9?\\x8dB$\\xcf!\\xa9C\\xe1}>\\x94\\xf5LZ2O3\\x8c\\x9f\\xce\\x94K\\x9eq\\xd6\\xa1,\\xa0\\x9c`\\x93\\xde\\x9adc\\xd6\\x8bh-\\x0b\\x1ef[x\\xf4\\xa6\\x99OA\\xd7\\xd2\\xa1\\x17zd\\x0e\\x92j\\xfa\\x92Z[\\xee\\x02I\\xdcgh\\xe7\\xa0\\xee}\\x05s\\x1a\\xa7\\xed\\xf7\\xfb\\x08\\xfc;\\xf1\\xe6\\x9f\\xf0\\xbbX\\xd4n5\\x1dwP\\x8eG\\xb5\\x82\\xe2\\xde\\xe9\\xfc\\xd0\\x98\\xdes\\x08X\\xd0\\x0c\\x8e\\x18\\x93\\xcfZ\\xc6\\xadh\\xd1\\xdfR\\xa3\\x17-\\x8e\\xdbH\\xd5\\xf5\\r\\x13Q\\x87V\\xd2\\xeeZ\\x1b\\x8by\\x03\\xc3\"\\x9eT\\x83_I|\\x15\\xf8\\xd0\\xff\\x00\\x135T\\xb0\\x96\\xc2H\\xaea\\x8a?\\xb4y \\x11#\\x10\\xdc\\xf5\\xca\\x80GS\\x8c\\xe7\\x8c\\xe1\\xb6\\xfc\\xe9m\\xfbM\\xfe\\xcb\\xde&\\xd4\\xed\\xb4_\\xf8AV\\'\\xbaBb\\x9a\\xca\\xeeX\\xd8\\x01\\xea\\x0b\\x15\\xfd+\\xbc\\xf0\\x8f\\xc7/\\x85?\\x0eVy<\\ra\\xf6i\\xeeT,\\xb73Le\\x91\\x80\\xce\\x06O\\x03\\xa9\\xe8\\x07Z\\xe2\\x96*\\x8e!\\xda7\\xba7P\\x9d6\\x9b\\xd9\\x9f\\\\x\\xb3\\xe1O\\x82\\xbe&\\xf8:O\\n\\xf8\\xe4\\x19m\\xa5S\\x87I|\\xb9al\\x1c28\\xe5\\x18g\\x86\\x07\"\\xbep\\xfd\\xa0?\\xe0\\x87\\xdf\\xb1\\x17\\xed!\\xa4\\xda\\xc1\\xe3\\x1b\\x1da5ki\\xd9\\xdb\\xc4v\\x97\\xe9\\xf6\\xeb\\x85#\\x84\\x96B\\xa7\\xcc\\xc7f#w\\xb9\\xac]7\\xe3\\xe6\\xb7\\xae_m\\xfe\\xdbp\\t\\xe0\\x898\\xc7\\xbf\\xbdz\\x1f\\x84~ x\\x83\\x01\\xa3\\xd6\\xe4!\\xfa\\x92\\xe0g\\xf35\\xcd(\\xdfb\\xa35\\xd0\\xf1\\xaf\\x14\\x7f\\xc16~.\\xfe\\xcc\\xde\\x03\\x8bK\\xf8/\\xf12\\xe7\\xc7Zv\\x9a\\xe8\"\\xd3\\xbc\\\\\\xaa\\x97\\xabl6\\xaf\\x95\\x15\\xc4\\x08\\x14\\x95Pv\\x87C\\x93\\xc1`\\x0eG\\x9bh\\xde#\\xb5\\xd4\\xe6\\x97M\\xb9\\xb5\\xb8\\xd3\\xf5;P\\x05\\xfe\\x8f\\xa8F#\\xb9\\xb5n\\x85]2x\\xce@e%[\\x1f)#\\x9a\\xfb\\xb2\\xc7\\xe2\\'\\x8a\\x16\\x15h/\\xfc\\xc5\\x07\\x95\\x92Pr?\\x1a\\xe2\\xfcu\\xe1\\x0f\\x85\\xbe3\\xf1$~.\\xf1\\xef\\xc2}:\\xf7R\\x86\\x16\\x8du\\x08wA6\\xc6\\xea\\xac\\xf0\\xb2\\xee\\x1c\\x03\\x86\\xc8\\xc8\\x07\\x1cV\\xf4qR\\xa4\\xad-\\x85()j|\\xaaX\\x16\\xceqI\\x96\\x07\\x93^\\xf9\\xa9\\xfe\\xcd\\x7f\\t|]3\\xc7\\xe0\\xaf\\x1a\\\\\\xe8\\x97\\xb8\\xf9lu$\\xf3\\xe1c\\xe8\\xae0\\xcb\\xf8\\xee5\\xc3\\xf8\\x9b\\xf6_\\xf8\\xb3\\xe1\\xf7s\\x16\\x93k\\x7f\\x12\\x1e\\'\\xb1\\xbcB\\x0f\\xd1\\\\\\xab\\xfe\\x95\\xe8S\\xc5Q\\xa9\\xb39\\xe5Nks\\xce\\xb7\\x15<\\x9e=\\xfbR\\xefoZ\\xbd\\xacx_\\xc4\\x9e\\x1e\\xb8\\x16\\xba\\xf7\\x87\\xefl\\xe4\\'\\n\\x97V\\xcc\\x85\\xbe\\x9b\\x875\\\\\\xe9:\\x89\\xc9\\x1al\\xfc.\\x7f\\xd4\\x9e\\x9e\\xb5\\xaf<w!\\xa7b\\r\\xf8<\\x9e\\xd4\\xbea\\xec\\x7f\\x11HP\\xaba\\x81\\x04{R\\x10\\xdd\\x9a\\xac\\x16\\x82\\x97\\xcep\\xc7\\xad3qc\\xc3~\\xb4\\x84\\x10phe\\'\\x83\\xff\\x00\\xeb\\xa9\\xf7Gv\\x14\\xcd\\xc4\\x1e\\xf8\\'\\xb58\\xf01\\x9fsM#\\xe6\\xc0\\x15A\\xabbn=y\\xfa\\n77\\x1dy\\xe9A\\x04\\xfe|\\xf1A\\xcf_\\xe9Q\\xa0\\x87\\x97Q\\xde\\x93\\x7f\\x19\\xdc)\\xbbq\\xce:\\xd0\\x0f9\\xe9H\\xaea\\xec\\xe3\\x18\\x07\\x91A~G4\\xc0\\xbd\\x80\\xa5\\nOC@\\xb5LP\\xc3\\x04\\x9a]\\xdf6\\xdcR\\x058\\x18\\x14*\\x9e\\r\\x02\\x14\\xb8\\x07p8\\x15\\xc6x\\xdf\\xf6\\x80\\xf8Q\\xe08\\xa5mg\\xc6\\x16\\x8d2)\"\\xda\\xde`\\xee\\xc7\\xa68\\xe0~&\\xbao\\x11\\xe9Rkz\\x05\\xf6\\x8b\\r\\xfc\\x96\\xafyg$\\x0bs\\x17\\xde\\x84\\xba\\x15\\x0e=\\xc6r>\\x95\\xf3\\x97\\xc3\\xcf\\xf8&\\xa7\\xc3\\xbbdK\\xff\\x00\\x8e>)\\xbd\\xf1m\\xd8\\x196\\xd1K%\\x9d\\xaa\\x9c\\xe7\\x9d\\x8f\\xe69\\xed\\xf7\\x95H\\xfe\\n\\xc6\\xac\\xab\\xf3%\\x04\\xad\\xd5\\xbf\\x91\\xd1A\\xe1\\xa2\\xdc\\xaa\\xdd\\xf6KC\\xc5\\xff\\x00h\\xaf\\xdbr\\x7f\\x1bx\\xf3N\\xd2\\xec\\xfc[iol\\xba\\x8c?\\xd9\\xfam\\xb8yLN\\x1b\\x1b\\x9fc\\x0f39\\x19\\x1bx\\xc7\\x18\\xcdr\\xba\\xf7\\xedC\\xf0\\xdf\\xc1\\x9a\\xcbh\\x8b~\\x8ds7/\\x1d\\xce\\x98`v\\xcfS\\xb5\\x80+\\x92+\\xf4\\x07\\xc0\\x1f\\x05>\\x11\\xfc,\\x88\\xc7\\xf0\\xe3\\xe1\\x9e\\x85\\xa1\\x96\\x18\\x92M3K\\x8a\\x19$\\xff\\x00}\\xd5w9\\xf7$\\x9a\\xcd\\xf8\\xf7\\xfb:|\\'\\xfd\\xa4\\xbc\\r?\\x80\\xfe+xV\\x1b\\xe8\\x1dI\\xb5\\xbbU\\x0bse\\'ia\\x93\\x19F\\x1f\\x91\\xe8A\\x04\\x8a\\xcf\\xea\\xdc\\xfa\\xcaZ\\x9ab\\xf1\\xb1\\xc48\\xa8\\xc3\\x961VI\\x1f\\x1f\\xf8\\x07\\xe2\\xfd\\x97\\x88\\xef\\xad5\\x9b\\x02\\x80\\xdbg\\xcae\\xb9 \\x00q\\x9e\\x05{O\\x87\\xbe0\\xd8O\\x06\\xfdCS@}\\x16A\\x9a\\xf9S\\xe2\\xc7\\xec9\\xfbL~\\xcaZ\\x94\\xfa\\x97\\x844\\xfb\\xcf\\x19xN2Z\\x1dGF\\x88\\xbd\\xdd\\xbcc\\x90\\'\\xb7\\\\\\xb0\\xc7vM\\xcb\\xc6N\\xde\\x95\\xe6\\xf2\\xfe\\xd4\\x9az\\xc4-g\\xbdx\\xe6\\\\\\x86\\x8c\\x12\\xac\\xac\\x0fF\\xcf \\x8ct\\xae)a]9\\\\\\xc7\\x9b\\x99-O\\xd0F\\xfd\\xbe~\\x1d\\xfc%\\x06\\xc7^\\xb9[x\\xd4\\x13\\xe7\\xbc{\\x94\\x9c\\x81\\xd7\\x1cW\\xa7\\xfc\\x05\\xff\\x00\\x82\\x8a\\xfe\\xcf\\xdf\\x11\\xa2H\\xf4\\x7f\\x8b:\\\\\\xd3\\xbc\\xaa\\xb2\\xd9\\x8b\\xb5\\x12\\x86c\\x806\\x9eFN\\x07NI\\xc5~E\\xf8\\xa3\\xe36\\x9d\\xe2\\x1bwK\\x9d@\\xcc\\x1c}\\xd69\\x15\\xe4\\xfa\\xfd\\xfe\\x9fk\\xaa\\xae\\xb9\\xa0\\xcamn\\xa3\\x93tS\\xdbJQ\\xd0\\xf6 \\xafJ\\xd5GK\\x0e.\\xda\\x1f\\xd4\\xcf\\xc3\\x0f\\x17h>\\'\\x81-\\xe1\\xbcp\\xc7h\\xc1%N\\x08\\xcf\\x7fj\\xf4\\xe8<\\x11m\\xa8\\xdb\\x97\\x8el\\x05\\xe7zs\\xce=+\\xf9\\xcf\\xfd\\x89?\\xe0\\xb1?\\x13>\\x0c\\xf8\\x8e\\xdbB\\xf8\\xef\\xab\\xea\\x1a\\xce\\x89\\x90\\xbf\\xdaV\\xa1\\x1e\\xe2\\x026\\x80\\xcc\\xa4|\\xe0\\x04\\x19*Cc<9\\xc0\\xaf\\xdb\\xaf\\xd9\\'\\xf6\\xbe\\xf8m\\xf1\\xdf\\xc1v\\x9e6\\xf8]\\xf1\\x12\\xd3^\\xd3d\\x00,\\xd1]e\\xe3=\\xe3t \\x14e\\xe0m<\\xfb\\n\\xc2T\\xdb5\\x8c\\x8fG\\xf8\\x8f\\xf0\\xca\\xee\\r\\x1ek\\xad.U\\x92\\xe0\\xa91\\xa8P\\x18\\xb7P2H\\xc7\\xd4\\xf1_>\\xfc \\xfd\\xb4o|3k\\xaaxG\\xf6\\x85y\\xf4\\x9f\\x10i\\xda\\xa4\\xca4\\xbdA\\xe1\\x17\\x11\\xd9\\x02\\xbe\\\\\\x85\\xa2w\\x8ePs\\x9d\\xf1\\xb3\\x00\\x18)\\xf9\\x81\\x15\\xf4\\x86\\xa5\\xa0\\xea\\x9e*\\xd4\\x7f\\xe1*\\xf0\\xa7\\xc4\\xed[Ky\\xf0\\xb7z\\x1c\\xcf\\x0c\\x96S\\xe0\\xe3;e\\x89\\xda#\\xee\\x85s\\xfa\\xd7\\xe7\\xdf\\xfc\\x16\\xcb\\xf6c\\xf8\\x9c\\xfe\\x06\\xff\\x00\\x85\\xd7\\xe0\\xef\\x86\\x96\\xba\\xc5\\xae\\x9e\\x85b\\xf1F\\x99ur\\x97zJ\\x93\\x99\\x12Xb\\xf2\\xfc\\xc8\\xfa\\xfc\\xdfs\\xbb)\\xef\\x97,R\\xb6\\xcc\\xbd\\xd9\\xf5f\\x8b\\xfbs|\\x027\\xe9\\x0e\\x99\\xf1v\\xce\\xca\\xe5\\x9b1\\xab\\xcb\\xe5\\xee=\\xc6\\x0f\\x07\\xf4\\xae\\xa0\\xfe\\xda\\x1f\\xb1\\xaf\\x8a`m\\x03\\xe2\\x1f\\xc7\\x0f\\x02\\xdb^\\xb2\\x90\\x0e\\xa5\\xa9\\xc3e#v\\xe4H\\xeb\\x9f\\xaf5\\xf8+\\xfb-|!o\\xda+XM\\x06\\xff\\x00\\xe3\\x0f\\x85t]L\\xe5\\x16\\xdfX\\x82\\xe6{\\xeb\\x99\\x14\\x1f\\x99#\\x93\\x11\\x9e\\x01;VR\\xc0\\x03\\xc0\\x15\\xf4\\xdd\\xbf\\xfc\\x11\\xf3\\xe0\\x97\\x89\\xbe\\xcby\\xf1\\x9b\\xe2g\\x8a\\xfcGq\\x04E$\\xb5\\xb1\\xbaM:\\xcaL\\x90s\\xe5F\\xac\\xf9\\xed\\xfe\\xb6\\xba)Q\\x95Ex\\xb39O\\x95\\xdaH\\xfd\\x11\\xf8\\x95\\xaa~\\xc5\\xd7\\xba\\\\\\xfe\"\\xf0\\xf7\\xed!\\xf0\\xfa\\x15\\x85w\\xdcK\\x1f\\x8f-\\x04q\\xae>\\xf1c\\xb8c\\xeb\\x8a\\xf8\\xe3W\\xff\\x00\\x82\\x84\\xfe\\xcfv\\x7f\\x18\\xee>\\x13h\\xbe\\'\\xb7\\xd6\\x93\\xfbZ+;\\x1dsE\\xb8i\\xec\\xa7\\xf3\\x08\\x00\\xf9\\xed\\x1aE\\x90H\\x07k0\\xeb\\x86\\xe3\\x15\\xcd\\xf8k\\xfe\\t\\x1b\\xfb\\x00\\xf8b\\xe3\\xedv\\xff\\x00\\x02\\xd6\\xed\\xf8+\\xf6\\xfdr\\xf6@\\xa4w\\xc7\\x9c\\x01\\xfcs]\\xa6\\x91\\xfb\\x06\\xfe\\xc9\\xde\\x1c\\xf1&\\x9f\\xe2\\xcf\\x0c\\xfc\\x1f\\xb0\\xd3\\xaf\\xb4\\xcb\\xb8\\xae-\\x9e\\xceiUw\\xc6\\xc1\\x97(X\\xa9\\x19\\x00\\xe3\\x1c\\xe2\\xbb\\xa1N\\xb4cnc.zw\\xd5\\x1e\\xc2O`x\\xa4\\xc8\\xc6sHY\\x87\\x1f\\xd6\\x9b\\xb9\\xbdk\\xa6\\xec\\xca\\xecp*\\x01\\xc1\\xa4$\\x11\\x91\\xda\\x9a[\\x9eM\\x19$\\xf0zR\\x1f\\xba?x\\xf44\\xc3\\x80z\\xd2e\\xbe\\xee?Z\\t\\xdc3\\x93N\\xec/dK\\xe5\\x9c\\xe3?\\xc3K\\xe4\\xadJ\\x17\\xb8\\x1f\\x9d\\x1by\\xe3\\xa7SH\\xa6\\x88\\xbc\\xb2\\x06X\\x1cb\\x94\\xc7\\xc7\\xa5K\\x81\\xbb\\xd7\\x8aP\\x01\\x1dq\\xf8R\\xbaBi\\x11\\x08\\xf0p\\x0f\\xe5G\\x96\\x07QRc\\xe5\\xc3\\x1a\\x1b\\x18\\xe6\\x98\\xad}\\xc8Y=\\xbf:M\\x9cr:T\\xcc\\x84\\xf4\\x19\\xf6\\xa6\\x91\\xd8\\x8aWB\\xb2\\xe6!(1\\xd6\\x8f/\\xde\\xa4(x\\xcf>\\xd4\\xdf\\xad2zhF\\xca\\x0f\\x19\\xaf/\\xf8\\xd9\\xfb\\x17\\xfe\\xcc_\\xb44\\xad\\x7f\\xf1[\\xe1\\x0e\\x99\\x7fz\\xc3\\x9dR\\xdb}\\xad\\xd9\\xfa\\xcd\\x03#\\xb0\\xf6bG\\xb5z\\x9b\\xa8+\\x87\\xee9\\x14\\x81B\\xa6\\x14`v\\x14\\xb4hg\\xc8~\"\\xff\\x00\\x82)\\xfe\\xc6\\xda\\xcf\\xcd\\xa4\\xdcx\\xc7Go[\\x0f\\x10\\x07\\xcf\\xd7\\xcf\\x8eJ\\xe5\\xa5\\xff\\x00\\x82\\x13|\\x02{\\x9c\\xc7\\xf1\\x9f\\xc6\\x82\\x1c\\xf1\\x1b\\x1bB\\xd8\\xff\\x00{\\xc9\\x19\\xfc\\xab\\xeeF\\x00p\\xbdh\\xe3\\xf8s\\x9a\\x97\\x08\\xbe\\x82\\xbb>B\\xf0w\\xfc\\x11C\\xf6:\\xf0\\xe4\\xc9q\\xaf\\\\\\xf8\\xb7^\\xc6\\x0b\\xc5\\xa8\\xebI\\x1cm\\xf8[\\xc5\\x1b\\x01\\xff\\x00\\x02\\xfck\\xe8O\\x81\\x1f\\xb3_\\xc1/\\xd9\\x9e\\xe6[\\xaf\\x81\\x1e\\x04\\x87\\xc3\\x97\\x13\\xa2\\xac\\xf7\\x16\\xb7SH\\xf2\\x80r\\x03\\x99\\x1d\\x8b~5\\xdc\\x8c\\x11\\xc9\\xfd)v\\xf5\\x02\\x9f$;\\x0f\\x99\\xae\\xa7\\xad\\xf8\\x13\\xe3\\xb7\\x8c&\\xd0\\xa7\\x868\\xe0\\x13[\\x0f\\xdfm\\x83\\xccw\\xe3\\x82\\xa0\\xf09\\xf5\\xf4\\xfckk\\xc3?\\x11.\\xbe#\\xa4\\xdf\\r>\\'\\xf8V\\xd3T\\xd15{i\\xad\\xae\\xa2\\xbe\\xd3\\x8c\\x91].\\xd0\\xee\\x8f\\x80S\\x90A%\\x82\\xe4\\xf4\\xc9\\x18\\xaf\\x1a\\xf0\\xd6\\xa56\\x99\\xac\\xc12\\xdcJ\\x91\\xc8\\xe29\\xd20\\x0e\\xf5n;\\xfa\\x12\\x0f\\xaf\\x1f\\x85b~\\xd1?\\x1a,\\xfe\\x0bi:G\\x8aZ\\xfb|\\xd6\\x1a\\xed\\xb5\\xcc7\\x17\\xac\\xf2.\\xd8\\x99\\x9eL\\xae\\x19c\\xca\\x96]\\xfbOPA\\xca\\xe4y\\x98\\x9a)I\\xa4t\\xd3\\x93i\\x1d/\\xedC\\xff\\x00\\x04\\xdc\\xfd\\x8d\\xed\\xbe\\x03\\xeb\\xd6\\x1f\\n\\xbe\\rh\\xda&\\xad\\x7f\\x18\\x92\\x1b\\xb9`\\x9e\\xe9\\xed\\xd9A?\\xb9\\xf3\\'S\\x01\\xeb\\x8d\\x8c\\x8b\\x9cd\\x1a\\xf9\\x0f\\xfe\\t\\xe7\\xfb`\\xde\\xfc]\\xb9\\xd7\\xbfg\\xbf\\x88\\xfe#\\xb5\\xbe\\xf1_\\x82\\xf6\\xa5\\xbe\\xa0\\x93\\x03.\\xabd\\xacb3H\\x01 L\\x8e\\xa0H\\x01?}\\t\\xe4\\x92}\\xaf\\xf6\\xf6\\xfd\\xb8#\\x8f\\xf6i\\xd4\\xbc}\\xe1M\"\\xee\\xd2\\xf2\\xc2\\xd1/\\x9a\\xc8k\\xd1\\xda\\\\\\x8bfeG\\x0ec\\x91\\xbc\\xa9v8p\\x1c\\x0e\\x00\\xe8\\xdcW\\xe2\\xef\\xec\\xb5\\xf1\\xefY\\xf8G\\xfbw\\xe8~<\\xb9\\xf1<\\xd6\\xd6\\xcf\\xe34\\x87P\\xbb\\xb9\\xb8i\\xfe\\xd1es?\\x95p\\xf2\\xc8y\\x90\\x98\\xe4\\xde[\\x07s(n\\xa0\\x1a\\x9a5=\\x94\\x93_3IG\\x9d4\\xcf\\xdd\\x8d\\xd9\\x18\\x1f\\x8d% #\\xafo\\xad.F2\\x0f\\xff\\x00^\\xbds\\x88(\\xc8\\xf5\\x14\\x9bT\\x8e\\x94c\\x03\\xe5\\x14\\x00`\\x81\\x80i6\\xee\\xf9\\xb3\\xd6\\x8f\\xfe&\\x8209<\\x7f*\\x00Lg\\x8c\\xf3H\\xc5G\\xf1R\\x83\\x95\"\\x91\\x94\\xe3\\x06\\x9a\\xdc\\r_\\xb2\\x9e\\x9bF=)E\\xbb\\x13\\x9d\\xb5i\\xa3\\'\\xe5\"\\x8f)X|\\xc3\\xf4\\xacn\\x8d\\x1d\\xecU\\x16\\xe4\\x0c\\x05\\x184\\x9eH\\xcf\\xca*\\xdf\\x95\\xfe\\xcf\\xebHb\\xe0`ri\\xdfP*\\xb4\\x18\\\\\\x8a>\\xcc@\\xc95g\\xca\\x03\\x86QJ\\xb0\\x86\\xe8y\\xa0\\n\\x86\\xdc\\xe0\\xae\\xcf\\xad!\\xb7r0\\x01\\xab\\xbeF\\x07\\x03\\xf1\\xc5\\rn\\xa0t\\xfd(&\\xda\\x94L\\x07\\xb8\\xff\\x00\\xeb\\xd4m\\x13/\\x04U\\xf3l\\xb8\\xc8\\xeb\\xf4\\xa8\\xe4\\xb7`I\\xc7\\xe7\\xde\\x9d\\xd8\\xb7\\xdc\\xa5\\xe5`\\xe4\\x81\\xd6\\x90\\xc4{(\\xff\\x00\\xbej\\xdbB\\xc3\\xb6i\\xbeA=\\x89\\xa6\\xa5\\xa8Z/b\\xa9\\x89Xr\\x05\\x062\\x0e\\t\\xab^Cci\\\\\\nG\\xb7=@\\xe6\\x8e`\\xb3*\\x88\\xc8\\xe0\\x9aS\\x10+\\xcf\\xe7S\\x8bb\\x0e\\x08\\xa0\\xc5\\xc18\\xefG0\\xfd\\xd2\\x18|\\xc8fY\\xa2\\x03r\\xb6Fzf\\xbc#\\xfe\\n\\x93\\xe2\\x9b\\xabo\\x80\\xfa\\xce\\x98\\xf6\\x97\\x93\\x86\\xd3\\x0bXE\\xe1\\xdd.K\\x9b\\xa5TW\\xde\\xe1\\xe3\\x03\\xca\\x1c\\x0c\\x07\\xc0\\xc8\\xe0\\x83\\xd3\\xdf\\x0cx9\\xc7\\xe1_)\\xff\\x00\\xc1U\\xef\\x81\\xf8Y-\\x99\\xf3-%\\x9fNX\\xfe\\xdfau-\\x9e\\xd3#\\xba\\x83%\\xc4i \\x07\\x11\\xa0\\xdaWv\\x07%P\\x929\\xf1\\n\\xf6e\\xd2J\\xf6?:\\xb5?\\xda\\xa7\\xe2jxjO\\x87~*\\xd7\\x86\\x9bm\\xae\\xb7\\x93\\xe23,iv\\xf7\\xa6u\\x9a\"\\xdb\\x02\\xe6\\x16\\xf2R%8\\xdcr\\xa1\\xba\\xe6\\xbel\\xf8\\x95\\xa9\\xa6\\xa9\\xac\\xe9\\xba\\xbd\\xb9\\x94\\x03b\\x90K\\x13>Y\\x9e/\\x90\\x10q\\x90\\xbbB\\x009\\xc6\\xdct\\x02\\xbd\\x03\\xe2d>!\\xd2|C\\x1f\\xf6\\xfcw\\x8d\\x15\\x9d\\xe5\\xac\\xbav\\xa14\\t\\x19\\xbc\\x88\\x87c:?\\x97\\x1bH\\xaf\\x90\\xca\\xc4\\x9e;\\x91\\xcdx\\xf7\\x88\\xae\\x19E\\xb4\\x8d+\\x15,\\xdf)a\\xb79\\xc6x\\xf6\\x03\\xf25\\xe5j\\x99\\xda\\xadc\\xfa\\'\\xfd\\x91|{\\xa8\\xfcV\\xfd\\x97~\\x1f\\xfcE\\xd5\\xd4\\xfd\\xb3V\\xf0\\x8d\\x84\\xf7\\xc5\\x986\\xe9\\xcc\\n$l\\x82r\\x0b\\x86#\\xeb^\\x8a# \\xed\\'\\xbd|\\xc3\\xff\\x00\\x04f\\x97\\xc5W\\x7f\\xf0O\\x0f\\x02\\xdcx\\xa2\\xee9\\xc6\\xedAt\\xc6\\x8c\\xa9+j\\xb7\\xb3*)\\xc6y\\x05\\\\`\\xf2\\x00\\x02\\xbe\\xa4\\x11\\xb7@\\xb5\\xedRm\\xd3W8e\\x14\\xa6\\xc8DD\\x0c\\x11G\\x96A\\xc8\\xcf\\xe5S\\xf9\\x7f5\\x02#\\x8c\\x80\\x7f*\\xd2\\xe8\\x9bhW1\\x90\\x7f\\x1aC\\x17\\xcd\\x90j\\xc0\\x88\\x01\\x8c\\xf3\\xedG\\x97\\xce0(N\\xe1\\xcb\\xa9]\\xa2=\\r&\\xce\\xd8\\xfcqV\\x0cx^\\x94\\xd3\\x19\\x07\\xa1\\xc50J\\xe7E\\xf6L\\x8c\\xe2\\x9am\\x8es\\x9a\\xd4kp9\\xa8\\xde\\xdf\\x1c\\xe3\\xf5\\xae.vkm,g\\x18;\\x1aF\\x84`f\\xafK\\x12 \\xce*\\x06L\\x7f\\x0f\\xebV\\xa6\\xeeM\\x9a*\\xb4`\\x1d\\xaciR1\\x9c\\x01\\xd3\\xbdL\\xd1\\xe7\\xaa\\xd0\\xb1\\x11\\xce;U)\\xe8\\x1a!\\xa20\\x06\\x01\\xa4h\\xfd\\x81\\xa9\\xd65\\x03\\x00t\\xefN\\xf2\\xbf\\xbc*T\\xb5&\\xcf\\xa1P\\xc7\\xdf\\xa5F\\xe1H\\xfb\\xa2\\xad\\xbc@\\x03\\xc5F\\xd1\\x0c\\xf0\\x05Z\\x98+=\\xca\\xc2\"N\\xecw\\xf4\\xa5\\xfb7\\xb5YX\\x87EZ<\\xb1\\xf7\\xb0\\xb9\\xa7\\xcc\\xc5\\xcaW\\xf2\\x061\\x8e\\xd4\\xd6\\x84c\\x81\\xda\\xad\\x14#\\x95\\x14\\xd3\\x17}\\xa7\\xf1\\xa4\\xa4\\xae=\\n\\x8d\\n\\xfab\\x9aa\\x1d1\\xdf\\x81V\\xccc\\xa0\\xf4\\xa6\\xba\\x0e\\xb8\\xa7\\xcc+ir\\x93\\xc6@\\xe3\\xad~t\\x7f\\xc1h\\xfcw\\xf1c\\xe1\\xe7\\x894\\xcb\\xbb\\xa8\\x8f\\xfc\"\\xda\\xae\\x98P\\xde\\xae\\x9b\\x0c\\xc1\\xcc\\r\\x96\\xb3Vx\\x9f\\xcaf\\x0c\\x19\\x89\\xdc\\n\\x07`2\\x84W\\xe8\\xfc\\x88\\x07\\x05\\x7f*\\xf3\\x8f\\xda\\x97\\xf6i\\xf8q\\xfbY\\xfc\\x13\\xd6\\xbe\\x06\\xfcN\\xb1\\xf34\\xfdZ\\x0f\\xdc]D\\xa3\\xcd\\xb2\\xb8^b\\xb8\\x88\\x9e\\x8e\\x8d\\x83\\xe8FT\\xe4\\x12\\t(\\xa9+\\x0e2\\xe5w?\\x1a<C\\xe2\\xb8\\x7fh\\xbf\\x87p\\xd8\\xcd\\xf0\\xf7Y\\xb2\\xf1M\\x8d\\x8b\\\\i\\x1e\\x18o\\r\\xddJ5}\\x96\\xea\\xd2\\xca\\x1a$\\x86(B\"\\xe64E\\x93\\x012O\\'?3x\\x9eH/LvS\\xab\\xdb\\xcbn\\x08\\x96\\xde\\\\\\x8d\\xb2n<`\\x81\\x8e\\x83 \\xe4\\xe75\\xe8\\x9f\\xb4?\\xc2O\\xda#\\xfe\\t\\xfb\\xf1\\x9e\\xff\\x00\\xe0\\xd7\\x8d\\xf5mWE;Rm+W\\xf0\\xed\\xcf\\xd9!\\xd5\\xe0\\x08\\xc9\\x1d\\xccr\\xa0\\x04\\xaf\\x03tg$0`Ho\\x98\\xf0\\xfe,\\xba\\x8bU\\xbd\\x1a\\xcd\\xd7\\x88\\xb5\\x9dF\\xff\\x00R\\x89no.5\\x8d4$\\xb3I\"\\x86wV\\xf3X\\xca\\xa5\\xc9\\xda\\xc4\\r\\xc3\\x92\\x018\\xaf.\\xac\\\\e\\xa9\\xdb\\x16\\x9a\\xbfC\\xf5\\xe7\\xfe\\x08\\x11\\xf1G\\xfe\\x13?\\xd8\\xca\\xeb\\xe1\\xfd\\xd5\\xf1y\\xfc#\\xe2\\x8b\\x98!\\x85\\x98\\x9f.\\xda\\xe0-\\xc2c=\\x8c\\x8f?\\xe4k\\xeeP\\x9f0\\x07\\xf9W\\xe2g\\xfc\\x11\\x07\\xf6\\x98\\xf0\\xef\\xec\\xe3\\xfbR\\xdcx\\x13\\xc5>\"\\x8e\\xdf@\\xf8\\x87m\\x16\\x9f$\\x971\\xedXo\\xa3fkGf\\xce\\x14\\x16\\x92H\\xbac3\\x02p\\x05~\\xdcm\\xdb\\xc6+\\xbf\\r4\\xe9\\xa5\\xd8\\xe6\\xaa\\xad+\\x91\\x98\\xf0r\\xdd\\x8d\\x01\\t\\xed\\xf5\\xa9\\x95F9^\\xb4\\x049\\xe0~U\\xbafW\\xb6\\x84&>\\xc4t\\xa6\\x88\\xc7sV\\x9a\\x1fJi\\x89s\\xc8\\xa0\\xab\\xb4V\\xf2\\xf1\\xf2\\x81\\xc5\\x065o\\x9bo\\xebVZ&\\x02\\x93\\xca\\xc0\\xc0?\\x9d\\x00u\\xd8\\x04s\\xcdE&\\x01\\xe9\\xfa\\xd2\\x19\\x03\\x0c\\x0f\\xc6\\x91\\x9cg\\x93\\\\f\\xcd\\x91:\\x83\\x9e*6\\x8f\\x9e{\\xfaT\\xe7o@3A@?\\x8a\\x9av$\\x87\\xc8\\xcfl\\xd3\\x96\\xd7\\xa9\\xc5M\\x1a`\\xf0:t4\\xf5$\\x8c\\x9a/\\xa5\\x80\\xaea\\xc7\\xd2\\x99\"zU\\x96P\\xe4\\x9fJ\\x8d\\x90\\x01\\x808\\xf4\\xcd\\t\\xd8N\\xfd\\n\\xef\\x10#\\x05\\xa9\\x8d\\x18+\\xcf\\xe7VDl\\x0eq\\xfaS\\x19\\t\\\\\\xd3\\xe6&\\xc9\\x90\\x88\\xf3\\xc8\\xe6\\x90\\xa9\\x07\\x02\\xa5\\x08\\x08\\xcehq\\xc6i\\xdd\\x02Z\\x11yx SYF1\\x8a\\x90\\xb6\\x07N\\xd5\\x1b\\x1c\\x0e\\xb4\\xc9\\xd1\\x11\\xb7O\\xbb\\x9ag\\xd2\\x97w\\xa2\\x8aia\\x83Z\\x02\\xd8\\x8d\\xd7=\\rBP\\x13\\x8d\\xbf\\x8dL\\xfbH\\xe4qM\\xc0\\xf5\\xedZ\\nG\\x89~\\xdc_\\xb1\\x17\\xc2\\x9f\\xdb\\x8b\\xe1)\\xf8\\x7f\\xf1\\x02\\xc1!\\xd4l$7>\\x1d\\xd6\\x82\\x13%\\x85\\xc6;\\xe0\\x82\\xd1>\\x02\\xbadn\\x1d\\x08eV\\x1f\\x92_\\xb5G\\xc4\\xff\\x00\\x89\\xff\\x00\\x13\\xfco\\xa9~\\xc9\\x9f\\x1d<\\x11\\x1f\\x86\\xfcY\\xe0\\xa1$~\\x1e\\xd3m%\\xd3\\xd3N\\x868#\\xfd\\xcd\\xb5\\x92}\\x84\\\\\\x84\\x92\\x15O/u\\xd3\\xef;N\\t!G\\xee\\xc3\\x1c\\x0c\\xd7\\xc9\\xff\\x00\\xf0S\\x9f\\xf8\\'\\x83~\\xd6\\xbe\\x16\\xb0\\xf8\\xad\\xf0r\\xea\\x1d\\x1b\\xe2\\xc7\\x83\\xd9n<5\\xab\\x86\\x11\\xfd\\xb5\\x11\\xb7\\x8bI_\\xb0\\xdd\\xccn~\\xe3\\x12\\x0f\\xca\\xedXT\\x87:\\xd3r\\xa9\\xcb\\x95\\xd9\\x9f\\x85\\x97l\\xf1\\xbf\\xdam\\xe6\\xf2\\x91\\xe4\\xf9Yrv\\xc9\\xc7C\\x81\\x83\\xd38\\xc7\\xf2\\xaf\\xda\\xcf\\xf8$/\\xfc\\x14\\x7fD\\xfd\\xa9\\xbe\\x1b\\xda|\\x0c\\xf8\\xa1\\xaf\\x15\\xf8\\x95\\xe1\\x9b\\x0f.\\xe7\\xedG\\r\\xac\\xda\\xc7\\x85[\\x95$\\x0c\\xca\\x01Q\"\\xf5\\xcf\\xce8b\\x17\\xf2\\x8f\\xe3V\\xa7\\xe2o\\x0f6\\xaf\\xe0\\xff\\x00\\x8a>\\x02\\xb6\\xf0\\xef\\x8cN\\xb8\\'\\xd5\\xf4\\x18\\xb4\\xe9\\xade\\xb2+\\x1bFw\\x86r\\x92\\x89\\x0ed\\\\\\x06 \\x12\\xc1\\xd89\\xc7%\\xf0\\x7f\\xe2w\\x8f\\xfe\\x10x\\xebL\\xf8\\xd3\\xf0\\x7f\\xc5\\xad\\xa7\\xf8\\x8f\\xc3wb[k\\xb9\\x11Yp\\xc1\\x97i\\x1f\\xdce%\\x180*Cc# W\\x1c\\\\\\xa9N\\xe8\\xeaqSG\\xf4\\xbc\\x01\\' p;S\\x82`\\xe75\\xe2\\xbf\\xb0\\'\\xedy\\xa6~\\xda_\\xb3\\x9e\\x95\\xf1t\\xe9p\\xe9\\xba\\xc2\\xb3Y\\xf8\\x8fI\\x86uqky\\x1f\\r\\xb7\\x04\\x90\\x8e0\\xea\\x1b\\x9d\\xae\\x01\\xc9\\x19\\xaflQ\\x93\\x8a\\xef\\x84\\xd4\\x95\\xd1\\xc9\\xca\\xd6\\x8c6|\\xb9\\xfd1H\\x15q\\x82i\\xc5\\xb6\\xf0\\x05 \\x1c\\xf4\\xcdW0\\xc0)=\\x057ig\\xc9\\xe2\\x9e\\x14g\\x86\\xa5\\x03\\xd4\\n\\x91\\xa5\\xa9\\xb3\\xbc\\x06\\xcezz\\xd4s\\xde\\xdbZ\\xa7\\x99q:\"\\x8eIw\\x00W\\xc8\\x9e\\x15\\xf8\\xaf\\xf1\\xd3\\xc5P\\r+[\\xd6\\'\\xb7\\x12.f\\xb8\\x8eu\\x18\\'\\xb0=\\xabn\\xe3O\\xb4\\xbc\\xd1_G\\xf1n\\xb7\\xa81`T\\xdc\\x7fla\\xb9\\xf4\\xc1\\xac-m\\xcb\\xd7\\xb1\\xf4\\x05\\xef\\xc5\\xff\\x00\\x86\\x96W\\x1fc\\xbb\\xf1\\xbe\\x9e\\x92\\xee\\xdb\\xb3\\xed*N\\x7f:\\xd3\\x87\\xc6>\\x1d\\x9a!qo\\xaa\\xc6\\xe8W!\\x90\\xe7\"\\xbe7\\xf0\\x0f\\xc1_\\x87\\xbe\\x1d\\xd6\\xee58\\x8cWq\\x87-\\xbfR\\x94\\xc8\\xd9\\xf5\\x075\\xea\\x10\\xfcL\\xb2\\xd2\\xec\\xa2\\xd2\\xec\\xaea6\\x98\\xda\\xa9n>u\\xed\\x8c\\x1e\\xd44\\xba\\tm\\xa9\\xed\\x96\\x7f\\x14\\xfc\\x03{7\\xd9b\\xf1-\\xaa\\xc8\\x1biI%\\ns\\xe9\\xcdk\\xa6\\xbd\\xa3\\xba\\x06MV\\xd8\\x8fQ:\\xff\\x00\\x8d|\\xf5\\x7f\\xa0|.\\xd4/\\x12]G\\xc1\\x9a\\x97\\xdafM\\xcf\"[\\x1c\\x1fr{Vu\\xcf\\x82~\\x18h\\xb3\\x19n4=q\\xa1\\x93\\x92me\\x93\\xe5>\\xe34\\x81\\xdf\\xa1\\xf4e\\xff\\x00\\x8e\\xfc!\\xa4\\xc8\\xb1j^$\\xb4\\x85\\x98\\xe1C\\xcc9\\xab\\r\\xe2O\\x0f\\xb2\\xac\\x83T\\x87\\r\\x82\\xa4\\xb0\\xe6\\xbe~\\xd1\\xf4\\xcf\\x82^-\\x8ch\\xf1\\xe97\\xd9\\x8f\\x92\\xf7\\xc8\\xe1\\x81\\xed\\x82j=_G\\xd7\\xa3\\xd5\\x93I\\xf0\\xeb[\\xdf\\xd8\\xa8\\xc7\\xd9\\xee/\\x188\\x1fZ\\x01\\'\\xb9\\xed\\x1e/\\xf8\\xcd\\xf0\\xd7\\xc0\\xac\\x8b\\xe2?\\x14\\xdb\\xc2d\\x1f\"\\x86\\xdcO\\xe0+\\x1bN\\xfd\\xa2|\\x07\\xae\\xdb\\xc9u\\xa0\\xc3}r\\x88N\\xd6\\x16l\\xa1\\xfe\\x84\\xd7\\x93\\xea\\x9e\\r\\xf1\\x9d\\xbd\\xf4z\\x8d\\xb7\\x86\\xac\\x12\\xde1\\xf3\\xfd\\xa5\\xd6Q\\xf8\\x13\\xcdu\\xba7\\x8b$\\x97NF1\\xd8,Q.%\\x8e\\xd1[>\\xfd\\x05=\\x05f\\xf7:\\xd4\\xfd\\xa1\\xbe\\x1aG{\\x16\\x9f\\xa9\\xeaMk<\\xa3!&\\x8f\\xa7\\xb7\\x14j?\\xb4\\x17\\xc3+\\x15\\xdc\\xda\\xd3HOA\\x1cG\\x9f\\xa6z\\xd7\\x99k>\\x13\\xf0\\x07\\x8a\\xee\\x93S*L\\xd1\\xc8Y7\\xefG\\x07\\xdb\"\\xad\\xff\\x00\\xc2\\x11s\\xad\\xa7\\x95q\\xa4\\xdc\\x88\\xa1\\x1f\\xbb\\x92x\\xa3*~\\x87\\xad!r\\xb3\\xaf\\xba\\xfd\\xa9\\xfe\\x0fC\\x1e\\xf9|@\\xcaG\\xdeF\\x81\\x81_\\xadB\\x9f\\xb5_\\xc0\\xfb\\xcbw\\xb9\\xb5\\xf1\\xb4\\x12\\x04\\x19h\\xd4\\x1d\\xc3\\xf0\\xaef\\x1f\\x84\\x96\\xb7\\xca\\x19\\xacm\\x91\\x8f\\x19\\x920\\xd9\\xaek\\xc4?\\x07|ecxc\\xf0\\xfcZ4;\\xce\\x0c\\xb2iA\\xb8\\xfc*\\xd3C\\xe4\\x97\\xf5\\xff\\x00\\x0ev\\xf6\\xff\\x00\\xb6o\\xc0\\x1b\\x9b\\xa3h\\xde2\\x11\\xb8\\xed,,?S]&\\x9d\\xf1\\xcb\\xe1~\\xadn\\xb7V^-\\xb5h\\x98d;>\\x07\\xeb_6x\\xcb\\xe0\\xc7\\xc4\\x87\\x9c\\xed\\xf1=\\x97\\x98\\x17\\xa4\\x1aj\\xc6\\ry\\x0f\\xc4\\xff\\x00\\x84\\xbf\\x18\\xef\"\\x94\\xdf_\\xbf\\xd8\\x07\\x12G\\x08\\xc6\\xe1\\xeb\\xf2\\x00j\\x93\\xec\\xc9j]\\x8f\\xbf\\xec\\xfe&\\xf8\\x03R\\x9d\\xad,<]a,\\x8a2\\xc8\\x97*H\\xfdkV\\x1dON\\xb8\\x8cM\\x05\\xecL\\x8d\\xfcJ\\xe3\\x06\\xbf\\'\\xb4O\\x81\\xf3\\xe8:\\xeax\\x8f\\xc3\\x17\\xfe$\\x82\\xe3\\xa5\\xcaC<\\x9bX~\\'\\xa5}\\x0b\\xe08\\xbe<\\xf8oJ\\xb5:D\\xf776\\x12\\x81\\xbc\\xdc\\xca\\xdeb\\x0f\\xd6\\x9b\\x93BI\\x9fg^x\\xcf\\xc3\\x16W\\xe9\\xa5\\xdc\\xea\\xf1$\\xf2p\\xa8OZ\\xd0W\\x8aD\\r\\x1c\\x81\\x81\\xe9\\x83_*x\\xa7N\\xf8\\xe5\\x1e\\x94u\\xdf\\x07\\xdd\\\\\\xea\\'`i`h\\x95\\x99N;dW\\x98O\\xf1\\xd7\\xf6\\xdb\\xb8It\\xcf\\t\\xe8n%\\x8d\\xb6\\x011\\xd8\\xca}\\xd6\\x92\\x93e8\\xb4{\\xdf\\xed\\xe3\\xff\\x00\\x04\\xee\\xf8)\\xfbvx\\x15\\xf4\\xdf\\x19Y.\\x97\\xe2\\x9b+v_\\x0f\\xf8\\xba\\xce\\x11\\xf6\\x8b6\\xea#\\x93\\xa7\\x9d\\tn\\xb1\\x93\\xc7%J\\xb75\\xf8\\xcf\\xf1g\\xf6\\x1c\\xf8\\xd9\\xfb \\xf8\\x9bW\\xf0\\xbf\\xc6\\xbd\\x1e\\xdf\\xedS\\x9ci\\xd7\\xb6{\\xa5\\x86\\xea _2F\\xdb\\x01`@\\r\\xf2\\x9d\\xe0g\\xe4\\x90$\\xc8\\x9f\\xa8?\\x0e\\xbfi\\xff\\x00\\xdb\\xe7\\xc2Z\\x94\\x1a\\x7f\\x8e?g\\xef\\xed\\xb8\\xf1\\x87\\x96\\x1b\\xa2\\x84\\x8f\\xefc\\x18\\xcf\\xe3]\\xcf\\xc6+\\xcb\\x8f\\xda3\\xc0\\x8d\\xe0\\xaf\\x8f\\x1f\\xb3]\\xdd\\xc6\\x97w\\x19\\xd8\\xd6l\\xaduc!\\xe9$m\\xd5H \\x1fB@\\xc88\\xac\\xebAT\\x8ff\\\\%(\\xf4?%\\xff\\x00a/\\xdbC\\xc5\\xdf\\xb0\\xef\\xc7\\x9b\\x1f\\x1a\\xda]\\xde\\xc9\\xe1\\x9b\\xa6X\\xbcU\\xa1\\xdb0x\\xaf\\xad\\x0fGA\\xbbn\\xf5\\'tn\\x0e\\xde\\x08\\xc8\\x0cE~\\xf1|\\x1e\\xf8\\xbf\\xf0\\xf3\\xe3\\xc7\\xc3}+\\xe2\\xbf\\xc2\\xcf\\x11\\xc3\\xaa\\xe8z\\xcd\\xbf\\x9bey\\x01#\\xb9VV\\x07\\x95u`U\\x94\\xf2\\x08 \\xd7\\xe1\\x8f\\xed\\xcf\\xfb\\x03\\xfcU\\xfd\\x9b\\x1a_\\x88Z\\x06\\x9f}\\xabx2i\\xc9MT\\xda2=\\xa31\\xfb\\x97+\\xd6\\x17?\\xf3\\xd0|\\xaf\\xfcYl\\xb1\\xf5_\\xf8!\\x7f\\xed\\xbd\\xe3\\x1f\\x86\\xbf\\x1b\\xed\\xbff\\x0f\\x13x\\xa3N_\\x05x\\x9e\\xe6Ckk\\xab]\\xa4\\x12\\xd8j-\\x1b2=\\xb9?\\xeb<\\xd6E\\x8d\\x93\\xbb:0\\xc6\\x0e\\xec\\xa9JT\\xdd\\xa4i8s\\xc6\\xe8\\xfd\\xa0\\xc8=\\r\\x00\\x90p\\x01\\xfc*\\xa4\\x9a\\xad\\x8414\\xd2] U\\xeaA\\xcdTO\\x1a\\xf8a\\xd4\\xcc\\x9a\\xacd\\x0e\\xb8\\x06\\xbb\\x0eucaI\\xc69\\xa7/A\\xf4\\xacK\\xaf\\x1dxz\\xca\\xdb\\xed\\x97\\x17L#\\xc7]\\x94\\xba/\\x8f\\xbc-\\xaf\\x83\\xfd\\x99\\xacF\\xe4u\\\\\\xe0\\x8a.\\x8aI\\x9f1x#\\xe1\\xd7\\xec\\xe0tvm?\\xe2m\\xed\\x8a\\x06\\xdac\\xd6\\xef\\x8ce\\xcfr\\xa5\\x88\\xdc*\\xbc\\xde\\x12\\xfd\\x99#\\xd4\\xdb@\\x8b\\xe3\\x96\\x93sw \\xf9\"MLH\\xe9\\xf8g\\x8a\\xf0_\\x13~\\xc4\\x9e+\\xf1^\\x9fo\\xa3\\xeaZ\\x04Z\\xab#\\x06i\\xb5=VwO\\xa0\\x0b\\xc5w\\xbe\\x02\\xfd\\x8d\\xed<#d\\x83U\\xf8[\\xa2\\xd8B\\xb1\\x01qsi\\xa8H\\xa0\\x01\\xdf\\xee\\xe7\\xf5\\xac\\xf5\\xee;>\\xc7K\\xe3/\\x05\\xfc\\x1f\\xf0\\x16\\x9c\\xf3\\xea\\x9f\\xb4\\t\\xd3l\\x9c\\x13\\xb4\\xde\\xf0O\\xd7\\x9e*\\xa7\\xc3\\x1b\\xdf\\xd9w\\xc43\\x8b\\x9d;\\xe3\\x9c\\x1a\\x8f\\x941#\\riA_~H\\xaeO\\xc5_\\xb2\\xe7\\xc0?\\x1dx\\x86\\x0f\\x08\\xabx\\x95\\xae\\xae_j\\xb6\\x9fu3\\xc0I\\xf5$\\xf4\\xae\\x81\\xbf\\xe0\\x97\\xbe\\x18\\xf0\\xde\\x8b\\x1d\\xb7\\x875\\x0b\\xbb[\\x94b\\xc0J\\x82M\\xc3\\xd0\\x86\\x14\\x9d\\xbb\\x87,\\x9e\\xd6=\\x7fNo\\x07k\\x92\\x07\\xf0\\x87\\xc5\\xddN\\xea(\\x17l\\x86\\xca\\xf5\\'\\x11\\xfdpI\\xae\\x8f\\xc0\\xe3\\xc3s\\xdd>\\x99e\\xf1B\\xeay\\xd5\\xb2\\xd1]\\xc5\\xcd|\\xf1\\xe0\\x8f\\xd9Q>\\x1e\\xeb?\\xf15\\xf0\\x96\\xa5#3\\xe5\\xf5\\r\\x1aAj\\xeb\\xcfR\\x10\\xae\\xea\\xfas\\xe1\\x8e\\x8f\\x1d\\x8d\\x82\\xc3\\xa6h\\x9fj\\x90\\xa8\\x02\\xea\\xe2\\x0c\\\\}\\x19\\x8a\\xf2j\\nJJZ\\x9d\\x04\\xfa[\\x1b6\\xd3\\xe3\\xd5 I\\n\\xe4H\\x00$\\xd65\\x97\\xc3\\x1d.\\xfdey\\xf59L\\xe4\\x92d*\\xc0\\x1a\\xedt\\xcb\\x1b\\xcbY\\xd0\\xea\\xbe\\x10\\x90\\x83\\xd6x\\x17\\x04~D\\xd5\\xbdZ\\xe7\\xe1\\xf6\\x9bnu?\\x10kkh\\x8ap\\x05\\xf5\\xc1@>\\xb9\\xa0}u<\\xe3\\xfe\\x10=\\x0e\\xe7M\\x96\\xca\\xf8JL\\r\\x82c\\xb9\\xe3\\x1e\\xbdi\\x9aW\\x80\\xad\\xe3RtmQ\\xa3\\xb5a\\x80\\xb1\\xb6\\xc6\\xcf\\xd7\\xa1\\xae\\xb6\\xdb\\xc5\\xff\\x00\\r<C\\xe7i\\x1e\\x19\\xf1\\xae\\x88\\xd2\\x91\\xb8\\x1bK\\xf8w\\x1fl\\x1a\\xa3\\x7f\\xe1+\\x1f\\x10M\\x16\\x9b\\xaf\\xeawQ\\xc4\\x1b\\xf7@N\\xf1\\x86?\\xef/\\xcah\\x12\\xe5kC\\xcc\\xfcr\\x97\\xfe\\x07\\x8aK\\xbb\\xef\\x19_G\\x12\\x93\\xe5\\xc2\\xd3\\xa92\\x9f\\xee\\x83\\x8e\\xb5\\x8d\\xe0}w\\xc7\\xde!\\xd3\\xa4\\xd4!\\x87P\\x86\\xce92\\xaf\\xaa;\\x00>\\x83\\x035\\xef\\x9a\\xef\\x82\\xf4\\xb9l \\xd2WN\\x8a\\xf3c\\x0c,\\x8a3\\x8fM\\xdf\\xd6\\xb3<u\\xe0[MK\\xc3\\xf1G\\xaa\\xf8nx\\xe3\\x81\\x87\\xd9\\xed\\xec\\xefdF\\'\\xdd\\x90\\xff\\x00:.\\x83\\x97\\xb1\\xc6h\\x97:f\\xac\\xabc\\x7f\\xaaA=\\xe1\\x18Al\\xb2FA\\xf7\\'\\x8a\\xd0_\\x05\\xdf\\xd9k\\x10\\x1b\\x7f\\x19\\xea\\x9ay\\x03\\xe6\\x8aI\\x83\\xc6\\xc3\\xdf9\\xad\\x8f\\x07_iPDlu\\xff\\x00\\x04\\r9\\x10\\xe0\\xcbs{\\x968\\xe8w\\x1a\\xe8-e\\xd0%&\\xdfH\\xbdT\\x0e\\xbf$\\xf2\\xdfG:}0I\\xa0VG\\x15\\xe3\\xaf\\x08\\xf81,\\xda\\xef\\\\\\xf1\\xabGp\\x89\\x9f>& \\xfe\\x9cW/\\xe0\\xdf\\x03\\xe90]\\x1b\\xbb\\xff\\x00\\x8a\\xf1\\xea6\\x92\\x9c\\xc7\\x1c\\xcc\\x03(\\xf4$\\x0ek\\xd5\\xae\\xfc?\\xe0\\xfb\\x86\\xfb7\\x89\\x97L\\xb9o\\xe2}\\xca7\\x0f\\xa0\\xa8o\\xbc\\t\\xe1\\xdb7\\r\\xe1O\\nX\\\\\\xc4W;D\\xc8\\x08>\\xa3#\\x9ai\\xe8>]N\\'V\\xf0G\\x85\\xed\\x81\\x995[\\x08cc\\xbb\\xfdx\\xc9\\x1e\\xb5\\xcc\\x8b?\\x16\\xdd\\xcc\\xd6>\\x0c\\xf8\\x81\\xa3I\\x02\\xb6\\x05\\xa0\\xe0\\x8f\\xf8\\x10\\xafj\\xf0\\xef\\x86\\xad/\\x9d\\xfc?\\xf1\\x0b\\xe1\\xb9[9S\\x11jVs\\xc6\\x92DON:\\x1f\\xa5fk\\x9f\\x00\\xf5_\\x0b\\xda\\xcdw\\xe0\\xa9\\xbe\\xd3\\x1a\\x9c\\xa3^\\xe9\\xca\\\\\\x0f}\\x98\\xa7\\xcc\\xc7\\xcae\\xfc0\\xb4\\xf1\\xd6\\x8eXx\\xb4\\xe9\\xcd\\x060\\xb2\\xc3q\\xcb\\x0f\\xa5M\\xe2o\\x89?\\x05\\xbc\\tz\\xd3k\\xda\\xbd\\x9d\\x8b\\xc8r\\xed.\\xdeO\\xd7\\x15?\\x83\\xbe\\x11j\\x97\\xf6O\\xaax\\xc6\\xcb\\xce\\x9d\\x98\\x80\\x90\\x93\\x12\\xaf\\xe1\\x9a\\xb7/\\xc0\\xff\\x00\\x0b\\xea\\xb08\\xd6\\xfc?c\\x13\\xe7\\xf7mt<\\xde?\\x11R\\xac\\xc1)^\\xc6|\\x7f\\xb4\\x1f\\xc39\\xe1\\xfbE\\xad\\xf43D\\xcb\\x98\\xe5GQ\\xbb\\xe9\\xcd`\\\\~\\xd2\\x9e\\x0f\\x96\\xe7\\xc8\\xb4\\xf0\\xde\\xa4\\xa78\\xde\\x13x?\\x88\\xcdS\\xf8\\xe1\\xe1\\x7f\\x86?\\x0b\\xf4\\xe8\\xd3_\\xf0\\xfc\\xf7(\\xe9\\x98\\xad\\xf4\\xfd\\x1bz\\xb7\\xb0=\\xaa\\xa7\\xc1=O\\xe1\\x1f\\x8e4\\xa3\\xa8i:^\\xa9\\xa7\\xac\\'m\\xcd\\x83\\xc3\\xfb\\xf8}\\xf6\\x8c\\xf1E\\xd2Af\\xa5\\xb9\\x91\\xe2\\xff\\x00\\x8f\\x1af\\xb5uw\\xa6^xA\\xee\\xecn`hn\\xb4\\xfdEQ\\xa2\\xb8F\\x18*U\\xc6\\x19H\\xe0\\x83\\x9c\\xd7\\xe6\\xbf\\xedK\\xff\\x00\\x04\\xc6\\xf1_\\x8c\\xbc{s\\xf1#\\xf6L\\xf8Y.\\x80\\x91\\xdc\\x8b\\x85\\xd0_R\\x02\\x0f46\\xed\\xd6\\xaf\\xb84\\x1c\\x8c\\xed-\\xb4\\x1f\\xbaT\\x00+\\xf5\\xf7\\\\\\xf8\\x7f\\xf0\\xbe\\xea\\x05y\\xbce\\x18\\x80\\x8d\\xdee\\xdb\\xa8\\x00{\\xe4\\x02+\\x8e\\xf1O\\x8f\\xbe\\x07|7\\xcc+\\xf1G\\xc3\\xf1D\\x06\\x18\\xdc\\\\\\xa8V\\xfa\\x1e\\x94.Y+\\x04_+\\xbbg\\x8d|\\x0c\\xf8\\x85\\xfbVx\\xdf\\xc36~8\\xd4\\xa6\\x8fD\\xbc\\xb8\\xb7\\t}\\xe1\\x9dv\\xdc$\\x96\\xb3\\xa1\\xdb\"\\x83\\x9f\\x9dw\\x02U\\xc6C)\\x04u\\xae\\x87\\xe2?\\xc5\\xcf\\xda[F\\xb1\\x16\\xda\\'\\x84\\xb4)n\\x88\\xf9\\xae\\x1a\\x12W>\\xb8\\x1dk\\x99\\xf8\\xc9\\xf1\\xab\\xe0G\\x89|U\\xa7\\xe8:\\x1e\\xa9\\x0c\\xb2\\xee\\xdd5\\xde\\x93\\xacyj}\\x01\\xda9\\xaa\\xde1\\xf0\\x07\\x89<D4\\x9dw\\xe1-\\xff\\x00\\x8am\\xfc\\xb9B\\xea6\\x8f:\\xdd\\xd9\\xce\\x9f\\xde\\xe7.?J\\xa5btoB\\xff\\x00\\x85~7~\\xd5\\xfa\\xa4\\xe2\\xcf\\xc6\\x9a\\x7f\\x85\\x82/\\x0e\\x15\\x1d[\\x1e\\xc3&\\xbaO\\nj>*\\xb9\\xd6\\x9fQq\\xa6\\xc7\"\\x1eb\\x8c7\\xcf\\xf8\\x8a\\xd5\\xd3\\xff\\x00g_\\x08\\xeb\\xfe\\x16\\x89\\xf5m\\x16\\xf2\\xe3QNn%\\xf3Z6O|\\x13\\x9cWQ\\xf0\\xe7\\xf6f\\xf0\\xae\\x80\\xcf\\xabh\\xd7\\xd3\\xb3\\x1f\\xf5\\x8c\\x97\\xec\\xe1~\\xa3&\\x9d\\xd1J\\x1a\\x9d\\xe7\\x86?g\\xed\\x1e\\xfcK7\\x866i\\xb1\\x86\\xdc\\xe2\\xe0\\xa8\\x07\\xe9\\x923V\\xbcE\\xf0\\xda\\xf3\\xc3\\xd06\\x98o\"\\xbb[\\x85\\xda\\xf1,\\x05\\x91\\xc7~rj\\x85\\x8f\\x82>#Ej\\xff\\x00\\xdaz%\\x9d\\xd6\\x01\\xf9\\xa2\\xd4^=\\xe3\\xf2\\xe0\\xd5\\xbbT\\xf1l\\xd6*\\x9a\\x95\\x8e\\xa1a$_*\\x93u\\xe6\\xa1\\x1f\\x875\\x9e\\xa5\\xfc\\x8e\"/\\x06xs\\xc3\\xda\\x8aj\\xfa\\x06\\x81\\xa7\\xb5\\xdd\\xb9\\n\\x97\\x00m1\\xb6~\\xe8#\\x07\\xf9\\xd7n~)\\xbb\\xc5\\r\\xae\\xad\\xe0\\xe9\\xd2d]\\xb2Mkt\\x8e\\x1c\\xfd\\x1f\\x04~uZV\\xf1\\xdc\\x11\\xaaA\\xa2\\x8dB\\xd5[.m\\xb6\\x16\\'\\xdc5fj\\x97\\xf7o\\x04\\xb1]\\xf8b\\xe6\\xd2V\\\\\\xa0{Ve\\xcf\\xfc\\x02\\x8d[\\x11k\\xc4\\x1e.\\xfb;\\xae\\xa0\\xde\\x14\\xd4\\x1e\\x15a\\x93\\x1d\\x90v\\xc7\\xb8\\x1f\\xd2\\x9f\\xa5\\xfe\\xd1>\\x00\\xd3\\xe5\\x16:\\xed\\xfd\\xcd\\x81\\xe8\\x16}2h@\\xfc\\xd7\\x15GE\\xd4.\\xe6\\x1ed\\xd6\\xba\\x84\\x0e\\x8a35\\x8d\\xc89\\xff\\x00\\x80H\\x01\\x03\\xf1\\xad\\xcd.\\xcf[\\xd7\\x00\\x8d\\xfcA\"<`\\xe1\\xae\\xed\\x97\\xe6\\xf6*I\\xcd\\x1a0\\xbc\\xd9\\xd5i\\x7f\\x10\\xfc#\\xad\\xd8%\\xdd\\xae\\xad\\x0c\\x91c>z\\xcf\\xc6=\\xf1\\xd2\\xb05\\xdf\\x8c\\x9f\\x02u9[\\xc3:\\xc7\\x88\\xf4k\\xc2[k\\xdbI2\\xc8I\\xf4\\xc1\\xab\\x16\\xbe\\x1e6q4\\x9a\\xb5\\x95\\x94\\x8b\\xd1\\xde\\xda\\x12\\x9b\\xbf\\x0e\\x95\\x0b\\xf8O\\xe1\\xf3\\xdc\\x0b\\xd3\\xe0\\xc8w1\\xcf\\xdab\\x89\\x0b\\x0f~9\\xa1[\\xa0\\xb5]L\\xe4\\xf0\\x07\\xec\\xdbk*\\xeap\\xe9z=\\xab\\xb8\\x0c\\xa5\\x84`\\x8f\\xa5u\\xda\\x14\\xbe\\t\\xfb\\x19\\x83G\\x16S\\xa68\\x16\\xd2\\x021\\xea@$T6\\x1aG\\x83\\xa5\\xb2h&\\xf0\\r\\x8d\\xca\\xb8\\xc0\\x9e\\xee\\x11!?\\xd7\\xf4\\xaa\\xdaW\\xc3\\xaf\\x0c\\xe9SKw\\x0f\\x84-\\xe1U;\\x91-$e\\x0c\\x7f\\xa57\\xa8Y\\xdfB\\xdd\\xa7\\x86\\xf4m.\\xfeK\\xcb;\\x15\\x89\\xdd\\xb7\\x06Y\\x1b\\x93\\xf4\\xce)\\xd2\\xeb\\x9a\\xd2\\xca\\xf1\\\\\\xf8TN}\\xa4\\xda\\xb2}i\\xd1\\xe9\\x1aF\\xa1i*\\xc3{\\xacxz\\xe5[\\xf7r3\\xc5p\\x84z\\x85\\xcfJ\\xe6e\\xb9\\xf1e\\xbf\\x8a\\x9f\\xc3ZG\\xc4\\x885y<\\x8f1mo\\xac\\x8d\\xba\\xc8;\\x81 \\\\\\x03\\xed@6\\x91\\xd0_K\\xa5j\\xeb\\x13j>\\x04{W\\x07\\x01\\xc2+c\\xdb#\\xa8\\xa8\\x1b\\xc1_\\x0f\\xef[\\xce\\x9b\\xc2\\x9a|\\xd2\\'\\xde\\x02\\xd5U\\x87\\xf8V\\xa6\\x97`\\xf0*[\\xea\\x1a5\\xfc7dnkd\\xb8y?\\x11\\x8e\\xa2\\xae\\xda\\xd8Yj\\xe6W\\xb5\\x80L\\xd1\\x9cJ\\x8c\\xc1]O\\xa1\\x07\\xbd\\t\\xb4\\x16\\xees\\xb7v^\\n\\xf0\\xcc\\xb1\\xeb0x=\\xa7\\x99~T[]89A\\xf5\\xab3_\\x1d\\x7f\\xf7V\\xfa!Dq\\x9d\\x93\\xda\\x18\\xd8\\xfbg\\xb5j\\xdc[\\xdcD\\x85\\xb4\\xe8e\\x89@\\xf9\\x95 \\r\\xcf\\xd2\\xb0<Y\\xf1c\\xc2\\xde\\x05\\xb5\\x17^(\\xbb\\xbb\\x8dT\\xe0\\x95\\xd3%<\\xff\\x00\\xc0W\\x14\\xf5a\\xb2.\\x1d*\\xd3KS\\x04\\x9au\\xf4;\\x86X\\xc6|\\xd4\\x07\\xf1&\\x9a\\xed\\xaf[\\xd9I&\\x99qz\\xceA\\xc3\\xc3p\\xcb\\xc7\\xa1G\\xaf+\\xf1\\xff\\x00\\xfc\\x14\\'\\xe07\\x82/ \\xd2\\xb4\\xedV\\xff\\x00Y\\xd4\\xae\\xbf\\xd4i\\xd6\\x1a|\\xae\\xf9\\xf7\\x1bx\\xac\\xcb\\x9f\\xda\\x03\\xf6\\x95\\xf8\\xa1fe\\xf0\\x07\\xc3\\xfb}\\x02\\x003\\x1d\\xe6\\xb4\\x99,?\\xeb\\x989\\xe9\\xec(\\xe5v\\xb8\\xb9\\x93\\xdbS\\xda\\xf4\\xfdGR\\x93@\\xf2n\\xae\\xee~\\xdc\\x0e\"76\\xdf.}\\x0e\\xd3\\xd3\\xde\\xb8\\xfd{\\xe2\\xae\\xa3\\xe0\\xeb\\x97\\xb6\\xf8\\x93\\xabh\\xf6\\xf1\\xc8\\xdbb[+\\xcd\\xd37\\xa6\\x10\\x8c\\xe6\\xbc\\xb7K\\xf8[\\xfb@\\xf8\\x9bP}k\\xe2?\\xc7\\xfdH[\\xb3\\x86k\\x1d\"\\x08\\xec\\xed\\xc6:\\x8d\\xcd\\x97?\\x98\\xadx\\xe7\\xf8\\'\\xf0\\xcbTyd\\x9a\\xca}F|y\\x977A\\xa5v>\\xa5\\x80?\\xce\\x8d\\x10]\\xdbQ\\xde7\\xfd\\xa4\\xf5\\x8dy\\xe3\\xd0\\xbe\\x1e\\xfc\\x14\\xd5\\xf5w\\x85\\xf0\\xb3\\xea\\xfb\"\\x8aQ\\xed\\x90O\\xe8+\\xcd\\xf5\\xbf\\x06\\xfe\\xde\\x1e7\\xf1Q\\xd4|!}\\xe1\\xcf\\x876\\x0e9:n\\x98\\'\\xb9\\x93\\xfd\\xe6q\\x83^\\xbb\\xe2/\\x88\\xde$\\xb0\\x92\\xd6\\xf3B\\xd7\\xf4;}<\\xc7\\xbeA\\x16\\x99$\\xd3\\x11\\xdbh\\x1by\\xac\\x1dG\\xe3\\x97\\x88u\\x99\\x11t\\xc8\\xbcM,[\\xf6\\xb0M\\x1d!S\\xef\\x92Y\\x80\\xa1;\\n\\xcb\\xad\\xff\\x00\\xafC\\x94\\xd1\\xbf`\\xfdkZv\\xd7>0\\xfcW\\xd6<]\\xa8\\xbf\\xcc\\x7f\\xb4.J\\xdb\\xa1\\xf6\\x89H_\\xce\\xb8?\\x8f_\\xb2\\xdf\\xec\\xd7-\\xcd\\xbe\\x87\\xe3\\xdf\\x89:}\\xb5\\xdb\\x10 \\xd3\\xc2\\x06U\\xc7o\\x95H\\x1f\\x8d{\\x84\\x97\\xbe\\'\\x9a\\xcamJ\\xc7\\xc3\\xb7\\x0c\\x8e\\xb9\\x9a;\\xed]\\x94\\xb0\\xff\\x00u\\xf0\\xa3\\xe9\\xc5`\\xe8\\x1a\\xf6\\x85}z\\xeb\\xff\\x00\\n\\xfa\\xdfO\\x99?\\xe5\\xbc\\xa2\\x19\\xd1\\x9b\\xe8\\xaei\\xc5\\xc9l=6G!\\xf0w\\xe0\\x0f\\xc0\\xcf\\x06E\\n\\xd8A.\\xa3\\xe5\\x80#\\x95,KF\\xa3\\x1cv\\xce+\\xd0\\xf5\\x0f\\rj\\x1e Y\\xf4m#\\xe2\\x15\\xef\\x87mJ\\xe29\\xed,\\x04J\\xa3\\xdf\\x8e\\x7f:\\x8f\\\\>/\\xbd\\xd2\\xe4_\\xf8X:\\x1e\\x90\\x85\\xb3\\x17\\x97a\\x12\\x9cz\\x13\\x82EW\\xd1/\\xbcKx\\xd0\\xdb\\\\|k\\xd1&\\x08\\xc3tmp\\xa4\\xb7\\xe1\\x8c\\xd2\\xd5\\x8fM\\x8d\\x1f\\x84\\x7f\\x04\\xbe\\x19\\xf8G]\\x9fT\\xd5\\xbe$k\\x9a\\xf6\\xac\\xed\\x96\\xbek\\xc9\" z\\x05R\\x01\\x1f\\\\\\xd7\\xa8\\xff\\x00\\xc2c\\xf0sN\\xbb\\x8fN\\xbe\\xb8\\x11\\xde\\x06\\x1bfhJ4\\x87\\xdc\\x8c\\x02k\\xcd\\xbc]}\\xe2+\\xb5C\\xa4\\xfcD\\xb9\\xb5T\\x8f\\r\\x16\\x89d\\xae\\xcc~\\xa5?\\xadq\\xe7\\xc2\\x91\\xe9\\xba\\x8c\\xbe2\\xf1|\\xda\\xac\\xa5W?k\\xf16\\xac\\x90B\\xbe\\xe2\\x18\\x80\\xcd\\x1c\\xb7\\xd49\\xb9tG\\xadA\\xf1\\n\\xd5\\xec\\x04\\x9e\\x14\\xf1<\\xaf\\xbb\\xee\\xa5\\xf34l\\xbe\\xc0H\\xb5\\x93\\xa9\\xfci\\xf8\\xcd\\xa5\\xd8Kw\\xe1\\xcf\\x0b\\xd9j\\x93[\\x92\\x1e\\xde\\xed\\x84k\\'\\xfc\\t\\t\\x15{O\\xf0\\t\\xd3\\xe7\\xf2u\\x0f\\x17\\xb1\\xda~c#\\x04?\\xa5Z\\x9fG\\xd3l\\xae\\x96\\xf2\\xef\\xc63,Y\\xc1\\x119\\xc1\\xfa\\xfa\\xd4\\xabt\\x1d\\x9b\\xdc\\xf3+\\x8f\\xdb\\xab\\xe2\\x07\\x86\\xe6\\xfb/\\x8c\\xfe\\x0bMcs\\xc9\\xc5\\xa1{\\x84\\x94\\xfa)\\xd8\\x00\\xfckS\\xc1\\x1f\\xf0Po\\x04k\\xf7\\xb0\\xe9\\xde(\\xf0\\x16\\xb1\\xa2\\xee\\x93\\xcb\\x92Y\\xa3\\xf9\\x11\\xbbg\\xd35\\xddL\\xfaD\\x93Gq\\x1e\\xa5=\\xcc\\x07\\xa1:z\\xb0\\x1e\\xfb\\x8a\\xe6\\x92\\xf9t\\xa9\\xa6\\xfe\\xce>\\x0c\\xb9\\xbc\\x120>x\\xb5\\x84\\xc6\\x07\\xa9\\xcfO\\xca\\x8d\\x18\\xb9_Ft\\xbag\\xc5\\x1f\\x0bx\\xd7m\\x86\\x84\\xda\\x82\\xa4\\x8b\\x8f\\xb5\\xc7l\\xaa\\xa3\\xf1aO}\\x1e\\xc7L\\xbbH\\xf5\\x0f\\x19\\x9b\\xa3\\'\\xdd\\x8e\\xee4\\xe0\\x7f\\xbc\\x80c\\xf1\\xaej\\xe6\\xdb\\xc4\\xb1\\xcd\\x14\\x1e\\x1d\\xf0\\xb6\\x9e\\xb6\\x88\\xbf;\\xcf\\xbfq8\\xe9\\xb60\\x00\\xfa\\xd7\\'\\xe2\\xdf\\x84\\xdf\\x11\\xbcd\\x9fh\\xf1o\\xc4K\\xad2\\xd6\"J\\xd9\\xe8\\x8cm\\x95\\xd7\\xd1\\xd8\\x9d\\xed\\xfaP\\xb6/\\xde=7\\xc5>7\\xf8e\\xe0\\xb4\\x8bM\\xd7>*\\xe9z$\\xcc\\xa0\\xacwz\\x82&\\xff\\x00\\xc1\\xc8\\xae[\\xc6?\\x1e\\xbfg\\xad6\\xd1&\\xf1g\\xc6\\x9f\\x0c\\xc2\\xf1s\\xf6\\x88u\\xd8\\xa1\\xc7\\xa1;_\\xfaW\\x86\\xfcH\\xf8S\\xf0#\\xc27\\x91k~(\\xf8}i\\xad\\xea3ac\\xd4<O{\\xf6\\xa2\\xb8\\xe8TJ\\xcc\\x7f,\\n\\xcb\\xd7?e\\xdf\\xd9\\xff\\x00\\xe2\\xb4\\x0b}\\xe2?\\x82~\\x17\\xd4\\xda\\xe2<G\\x04:Q\\x84`\\xf5;\\xe1\\x1c~b\\xa9Ew2nW\\xb1\\xee\\xfe\\x11\\xf8\\xef\\xf0W\\xc5\\x1a\\xaa\\xdb\\xf8\\x17\\xf6\\x87\\xd0\\xf5)]w-\\x94Z\\xb5\\xbc\\xa7\\xf2\\xdc\\x1a\\xbd\\x0e\\xcfY\\xbe\\x9eE\\xb8\\x83W\\x8eX\\xd90\\xe8\\x8c\\xac\\t\\xf6\\xe6\\xbe\\x0c\\xd7\\xff\\x00\\xe0\\x98\\x1f\\xb2=\\xfd\\xaaX\\xd8\\xfc3\\xbe\\xb1\\xb9\\xb7\\x93sAk\\xabL\\x91\\x9c\\xff\\x00\\x0cmq\\xf3g\\xfd\\xd6\\xad\\xcf\\x87^\\x13\\xf8\\xc3\\xfb>\\xddG\\xe1?\\xd9\\xf3\\xe0\\xde\\xbd\\x15\\x84S\\x01+x\\xb3\\xc5\\xd7\\x93\\xa6?\\xd8\\x8d\\x19\\xc0\\x1e\\xdf\\xa5\\'\\x1e\\xcc\\x175\\xf6\\xbf\\xde}\\xaf\\xad\\xdd\\xc3#\\xf9\\xf7p~\\xe9W\"\\x19\\xfa\\x02;\\x8e\\r`\\xd8\\xfcf\\xf0\\xcd\\x9e\\xa0c\\xba\\xb0\\xba\\x85bl-\\xc4\\xd6\\xc4FO\\xb1jg\\x87t\\x7f\\x14j\\xfe\\x17\\x8bQ\\xd6\\xb5\\x1f\\xb2_\\xc9\\x082o\\x85\\x99as\\xd5Wtk\\x91\\xef\\xd6\\xab\\xdd\\xfc#\\xf1\\r\\xd6\\xa3\\x14\\x9a\\xb6\\xb9\\xaa\\xc8\\xc1\\x06\\xc9\\xadn\\x95\"\\xfcS\\x82O\\xe1S\\x12\\xb5\\xe8\\x8e\\x96\\xf3\\xe3\\xf6\\x9b\\xaf]F4\\xadr\\'\\xbb\\x80\\x02\\xb7\\x10H\\x15\\xd0\\x0e\\x83\\xba\\x9f\\xa5j\\x8f\\x1f\\xf8\\xa6\\xfeX\\xf5=gQ\\x86\\xe9e\\xc3F\\xd7v\\x88\\xc0\\x1c\\x7f\\xb2\\x07\\xeb^\\x7fs\\xf0+K\\xbc\\xbc\\x9fQ\\xd4\\xeeBy\\x87\\x0e\\xd2\\xdd*\\xee\\xc7\\xa7\\xcb\\x91\\xf8T\\x7f\\xf0\\x8b_\\xf8B\\xca[\\x1d\\x0fJ\\xbf\\xb8\\xf9\\t\\x81?\\xb4\\x95aoL\\x12\\r\\x1fh5[\\x9a\\xb7\\xb2k\\x9aV\\xbd&\\xad\\x07\\x8e5\\x0bqr\\xe5\\xde\\xda\\xde\\x061\\x9c\\xff\\x00t\\x00H\\xfc\\xea;\\xdd\\x0fJ\\xf1g\\x9fq\\xa8\\xc1\\xa8]<\\x87\\x135\\xc5\\x94\\xae\\x8d\\xf81\\xc5qW\\xbe!\\xf8\\xf4\\xb6\\x90\\xe9\\xb6w:\\x1e\\x99p\\xc31\\xc3w\\x89\\x1b\\xafb\\xec\\x01\\xe3\\xda\\xb1\\xa0\\xd6\\xff\\x00k\\x1b-J\\xe2G\\xd3Z\\xf2\\x0c\\x1d\\xd1\\xe9O\\x08${\\x1cq\\xfa\\xd3\\xd4\\x17\\xa1\\xe9+\\xe0/\\x07\\xf8:\\x04\\xbd\\xd0<5\\xa6Y\\xc9\\x9c\\xbc\\xcf\\xa0\\x89\\x1c\\x9fb\\x0eE\\\\\\xbd\\xf1\\xc5\\xf5\\xc5\\x9a\\xd9\\xe8\\xda\\xb4\\x1a|\\xbd<\\xf9\\xb4f\\n\\xc7\\xdb\\x7f\\x15\\xc9\\xfc=\\xb1\\xf1\\xb4\\xf1\\xb7\\x88|qq\\xab[\\x87C\\xb6\\x1b\\x8dQ\\x0f\\x94\\xc3\\xb3\\x05+\\x9f\\xca\\xaf\\xf8\\x9b\\xc5:\\x1d\\xa5\\x80\\xb8\\xf1(\\xb7\\xbe@r\\xa5^y\\x0f\\x1fBh\\xba\\x07\\xb1\\xd0M\\xac\\xf8\\x87N\\xd3\\xc2\\\\J\\xfa\\xcf\\x989\\\\\\xc2\\x91\\x83\\xec\\x05r\\xbe\"\\xd5\\xf5\\xf6\\x80\\x19<!ic\\xbf\\xee\\xca\\x00\\x9c\\xfdv\\xaa\\xe6\\xadZ\\xc9\\xe1-N\\xce\\x1dgy\\xb7I0\\x13\\x109\\x03>\\xa1\\x8ej\\xfd\\x86\\x9d\\xa2\\\\\\xb4\\xf0\\x0bK\\xadG\\xcbL\\x95\\x82\\xc1>q\\xed\\x93\\xcf\\xe1L\\x13g\\x05\\r\\x9f\\xc5\\x9d^LY\\xfcS\\x86\\xca\\xd8\\x1f\\xb9\\x06\\x85\\x87\\x03\\xfe\\x04+i\\xfe\\x18jGO]OS\\xf8\\x8d\\xadj\\x129\\xdb\\xb9P\\xe3>\\x9b\\x01\\x18\\xad\\xdbO\\x0fX}\\xbf\\xce\\x83F\\xd5\\xad\\x8a\\x9f\\x96\\x12\\xe5I>\\xca\\xa6\\x9d\\xadYx~;\\x98_\\\\\\xd3\\xef\\xe6|\\xe68\\xe4\\xb0\\x91\\xf6\\xff\\x00\\xbd\\xb4P\\x16G\\r\\xe2\\x8f\\xd9\\xfbV\\xd5\\xa2U\\xb3\\xf1\\x1e\\xab\\x0b\\xca\\xbf,\\xf2\\xb2(\\x19\\xfa\\x93^o\\xad\\x7f\\xc1?\\xbcg\\xad\\xeaBk\\xff\\x00\\x8c^&\\x89G\\xcc\\r\\xb6\\xac\\xf1\\xe3\\xe8\\x13\\x00W\\xbeM\\xad\\xd9\\xe8n\\xdeN\\x8bnw\\xe0[\\xa4Q\\xccJ\\xff\\x00\\xbc\\xbb\\xc5_\\x87\\xc7\\x1a\\x95\\xac_g\\xb8\\xf0T\\x92\\x12\\xbb\\xb7Cm6\\xd6\\x1e\\xa1\\x8bSRh\\x1a\\x8b{\\x1c\\x17\\xc3O\\xd9\\x12\\xc3\\xc1\\x9a\\x11\\xfe\\xdd\\xf8\\x91\\xe2\\x8b\\xf0\\x83\\'\\xfbF\\xf3\\xcf\\x18\\xff\\x00z\\\\\\xd6\\xc4\\xde\\x08\\xd6|:D\\xfe\\t\\xd2\\xedn`?\\xf2\\xf3y\\xa9/\\xfe\\x81\\x1a\\x81\\xfa\\xd5/\\x88\\x1f\\x14\\xfe4B\\x19<\\x11\\xf0\\xea\\xd6h\\xc8\\xc2\\x0b\\xf9e\\x07>\\xea7\\x7f:\\xe5<1\\xe1_\\x88\\xfa\\xa5\\xcc\\xbe-\\xf8\\x97\\xa5\\xcdl\\xce7Co\\xa5j\\x8f\\xb61\\xe8Q\\xc2\\xff\\x00*5lwoD\\xac\\x8fT\\xf0\\xde\\x8d\\xaa\\xea\\x16\\x84jZ\\x9cP\\xce\\xc0d\\r\\xaa\\xb9\\xf6\\xc0\\xc9\\xady\\xbe\\x10x#P\\xb2c\\xe2\\x0b\\x9b{\\x89q\\x96\\x96\\xe6R\\xc3wo\\\\W\\x0f\\xe1}\"}k\\xce\\x1a,\\xf3\\xab\\xc7\\xc0:\\x84A\\x88\\xcf~O#\\xe9K\\xe2\\x0f\\x83\\xff\\x00\\x14\\xae\"Yt_\\x1a\\xd9#\\xa8\\xc9S\\xa7\\x07_S\\xf7\\x8e)\\x0f[l\\x7f\\xff\\xd9'}\n"
          ],
          "name": "stdout"
        }
      ]
    },
    {
      "cell_type": "code",
      "metadata": {
        "id": "CDQLMorkuCh5",
        "colab_type": "code",
        "colab": {}
      },
      "source": [
        "model.predict(upload)"
      ],
      "execution_count": null,
      "outputs": []
    }
  ]
}